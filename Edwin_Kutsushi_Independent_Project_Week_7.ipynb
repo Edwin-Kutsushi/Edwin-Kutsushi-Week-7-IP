{
  "nbformat": 4,
  "nbformat_minor": 0,
  "metadata": {
    "colab": {
      "name": "Edwin_Kutsushi_Independent_Project_Week_7.ipynb",
      "provenance": [],
      "collapsed_sections": [],
      "toc_visible": true
    },
    "kernelspec": {
      "display_name": "Python 3",
      "name": "python3"
    }
  },
  "cells": [
    {
      "cell_type": "markdown",
      "metadata": {
        "id": "kLG2VTrnTvYL"
      },
      "source": [
        "## Defining the Question"
      ]
    },
    {
      "cell_type": "markdown",
      "metadata": {
        "id": "XecOwPNorl2W"
      },
      "source": [
        "### a) Specifying the Question"
      ]
    },
    {
      "cell_type": "markdown",
      "metadata": {
        "id": "-7k5gJVc27dJ"
      },
      "source": [
        "The research question is to identify factors that affect housing prices using the given information on real estate properties\r\n",
        "\r\n",
        "Create a model that would allow the company to accurately predict the sale of prices upon being provided with the predictor variables\r\n"
      ]
    },
    {
      "cell_type": "markdown",
      "metadata": {
        "id": "J4wfHZwQrs-t"
      },
      "source": [
        "### b) Defining the Metric for Success"
      ]
    },
    {
      "cell_type": "markdown",
      "metadata": {
        "id": "D4YxKyKV3u_6"
      },
      "source": [
        "For this analysis to be considered successful, the following areas must be covered:\r\n",
        "1. If we identify factors that affect housing prices.\r\n",
        "2. If we predict accurately the price of a house.\r\n",
        "3. If we get the best model to predict price of house."
      ]
    },
    {
      "cell_type": "markdown",
      "metadata": {
        "id": "a9BPYqunry97"
      },
      "source": [
        "### c) Understanding the context "
      ]
    },
    {
      "cell_type": "markdown",
      "metadata": {
        "id": "JyRcDnLK6eex"
      },
      "source": [
        "Hass Consulting Company which is a real estate leader with over 25 years of experience. HassConsult offers investment-grade developments all over the City.\r\n",
        "\r\n",
        "The developments they offer have been conceptualized by their development team to be high quality assets using a data-driven approach in planning and design, that gears property for high rental returns and an escalated rate of capital growth.\r\n",
        "\r\n",
        "It has proven over the last decade to be an important tool providing investors, home owners, the financial industry and consumers with current and historical information about house price inflation- allowing them to make informed decisions in the housing market, in order to enjoy the best possible returns.\r\n",
        "\r\n",
        "To improve the services and pricing services they have requested for our services for better pricing."
      ]
    },
    {
      "cell_type": "markdown",
      "metadata": {
        "id": "7KMRBJ7zr9HD"
      },
      "source": [
        "### d) Recording the Experimental Design"
      ]
    },
    {
      "cell_type": "markdown",
      "metadata": {
        "id": "uNtM7QZn5QCG"
      },
      "source": [
        "The following steps will be followed in conducting this study:\r\n",
        "1.Define the question, the metric for success, the context, experimental design taken.\r\n",
        "2. Read and explore the given dataset.\r\n",
        "3. Define the appropriateness of the available data to answer the given question.\r\n",
        "4. Find and deal with outliers, anomalies, and missing data within the dataset.\r\n",
        "5. Perform univariate, bivariate and multivariate analysis recording our observations.\r\n",
        "6. Performing regression analysis.\r\n",
        "7. Incorporate categorical independent variables into our models.\r\n",
        "8. Check for multicollinearity\r\n",
        "9. Provide a recommendation based on our analysis. \r\n",
        "10. Create residual plots for your models, and assess heteroskedasticity using Barlett's test.\r\n",
        "11. Challenge our solution by providing insights on how we can make improvements in model improvement."
      ]
    },
    {
      "cell_type": "markdown",
      "metadata": {
        "id": "zSGyg6kWsBUl"
      },
      "source": [
        "### e) Data Relevance"
      ]
    },
    {
      "cell_type": "markdown",
      "metadata": {
        "id": "ZZQmx1fYGtCB"
      },
      "source": [
        "The dataset to use for this project is found by following this link: [http://bit.ly/IndependentProjectWeek7Dataset (Links to an external site.)].  \r\n",
        "\r\n",
        "Below is the dataset glossary:\r\n",
        "\r\n",
        "Id \r\n",
        "price  - Price of the house\r\n",
        "bedrooms - Number of Bedrooms\r\n",
        "bathrooms - Number of Bathrooms\r\n",
        "sqft_living - Square feet area of living area\r\n",
        "sqft_lot  - Square feet area of parking Layout\r\n",
        "floors - Number of Floors\r\n",
        "waterfront - Whether waterfront is there or not\r\n",
        "view - Number of Views\r\n",
        "grade - Grades\r\n",
        "sqft_above\r\n",
        "sqft_basement - Square feet area off basement\r\n",
        "yr_built - Year the house is built\r\n",
        "yr_renovated - Year the house is renovated\r\n",
        "zipcode - zipcode os the house\r\n",
        "lat : Latitude of the house\r\n",
        "lon : Longitude of the house\r\n",
        "sqft_living15\r\n",
        "sqft_lot15"
      ]
    },
    {
      "cell_type": "markdown",
      "metadata": {
        "id": "iUNbvIvnT7ep"
      },
      "source": [
        "## Reading the Data"
      ]
    },
    {
      "cell_type": "markdown",
      "metadata": {
        "id": "cJxg_Ir9djom"
      },
      "source": [
        "### Importing our Libraries"
      ]
    },
    {
      "cell_type": "code",
      "metadata": {
        "id": "XJn2KjW-WMlG",
        "colab": {
          "base_uri": "https://localhost:8080/"
        },
        "outputId": "01ec6361-df01-4cb1-ff9d-85d0fcd09de6"
      },
      "source": [
        "# Let us first import all the libraries we will need for our analysis\n",
        "import pandas as pd\n",
        "import numpy as np\n",
        "import seaborn as sns\n",
        "import matplotlib\n",
        "from matplotlib import pyplot as plt\n",
        "%matplotlib inline\n",
        "from pandas_profiling import ProfileReport\n",
        "from scipy import stats\n",
        "from scipy.stats import norm\n",
        "from scipy.stats import ttest_ind\n",
        "import statsmodels.api as sm\n"
      ],
      "execution_count": 1,
      "outputs": [
        {
          "output_type": "stream",
          "text": [
            "/usr/local/lib/python3.6/dist-packages/statsmodels/tools/_testing.py:19: FutureWarning: pandas.util.testing is deprecated. Use the functions in the public API at pandas.testing instead.\n",
            "  import pandas.util.testing as tm\n"
          ],
          "name": "stderr"
        }
      ]
    },
    {
      "cell_type": "markdown",
      "metadata": {
        "id": "mHZc75wWe4qh"
      },
      "source": [
        "### Loading our Dataset"
      ]
    },
    {
      "cell_type": "code",
      "metadata": {
        "id": "S0hXyoxDBA5d"
      },
      "source": [
        "# Loading the Dataset from the source i.e. csv\r\n",
        "\r\n",
        "house_price = pd.read_csv('Independent Project Week 7 - house_data.csv')"
      ],
      "execution_count": 2,
      "outputs": []
    },
    {
      "cell_type": "markdown",
      "metadata": {
        "id": "PhMoSGAbfYXB"
      },
      "source": [
        "### Previewing the Dataset "
      ]
    },
    {
      "cell_type": "code",
      "metadata": {
        "colab": {
          "base_uri": "https://localhost:8080/",
          "height": 224
        },
        "id": "6KIwzENlfR8l",
        "outputId": "ad77a417-e6a1-449a-96c9-2bfce2ba003b"
      },
      "source": [
        "# previewing the first five entries of the dataset\r\n",
        "\r\n",
        "house_price.head()"
      ],
      "execution_count": 3,
      "outputs": [
        {
          "output_type": "execute_result",
          "data": {
            "text/html": [
              "<div>\n",
              "<style scoped>\n",
              "    .dataframe tbody tr th:only-of-type {\n",
              "        vertical-align: middle;\n",
              "    }\n",
              "\n",
              "    .dataframe tbody tr th {\n",
              "        vertical-align: top;\n",
              "    }\n",
              "\n",
              "    .dataframe thead th {\n",
              "        text-align: right;\n",
              "    }\n",
              "</style>\n",
              "<table border=\"1\" class=\"dataframe\">\n",
              "  <thead>\n",
              "    <tr style=\"text-align: right;\">\n",
              "      <th></th>\n",
              "      <th>id</th>\n",
              "      <th>price</th>\n",
              "      <th>bedrooms</th>\n",
              "      <th>bathrooms</th>\n",
              "      <th>sqft_living</th>\n",
              "      <th>sqft_lot</th>\n",
              "      <th>floors</th>\n",
              "      <th>waterfront</th>\n",
              "      <th>view</th>\n",
              "      <th>condition</th>\n",
              "      <th>grade</th>\n",
              "      <th>sqft_above</th>\n",
              "      <th>sqft_basement</th>\n",
              "      <th>yr_built</th>\n",
              "      <th>yr_renovated</th>\n",
              "      <th>zipcode</th>\n",
              "      <th>lat</th>\n",
              "      <th>long</th>\n",
              "      <th>sqft_living15</th>\n",
              "      <th>sqft_lot15</th>\n",
              "    </tr>\n",
              "  </thead>\n",
              "  <tbody>\n",
              "    <tr>\n",
              "      <th>0</th>\n",
              "      <td>7129300520</td>\n",
              "      <td>221900.0</td>\n",
              "      <td>3</td>\n",
              "      <td>1.00</td>\n",
              "      <td>1180</td>\n",
              "      <td>5650</td>\n",
              "      <td>1.0</td>\n",
              "      <td>0</td>\n",
              "      <td>0</td>\n",
              "      <td>3</td>\n",
              "      <td>7</td>\n",
              "      <td>1180</td>\n",
              "      <td>0</td>\n",
              "      <td>1955</td>\n",
              "      <td>0</td>\n",
              "      <td>98178</td>\n",
              "      <td>47.5112</td>\n",
              "      <td>-122.257</td>\n",
              "      <td>1340</td>\n",
              "      <td>5650</td>\n",
              "    </tr>\n",
              "    <tr>\n",
              "      <th>1</th>\n",
              "      <td>6414100192</td>\n",
              "      <td>538000.0</td>\n",
              "      <td>3</td>\n",
              "      <td>2.25</td>\n",
              "      <td>2570</td>\n",
              "      <td>7242</td>\n",
              "      <td>2.0</td>\n",
              "      <td>0</td>\n",
              "      <td>0</td>\n",
              "      <td>3</td>\n",
              "      <td>7</td>\n",
              "      <td>2170</td>\n",
              "      <td>400</td>\n",
              "      <td>1951</td>\n",
              "      <td>1991</td>\n",
              "      <td>98125</td>\n",
              "      <td>47.7210</td>\n",
              "      <td>-122.319</td>\n",
              "      <td>1690</td>\n",
              "      <td>7639</td>\n",
              "    </tr>\n",
              "    <tr>\n",
              "      <th>2</th>\n",
              "      <td>5631500400</td>\n",
              "      <td>180000.0</td>\n",
              "      <td>2</td>\n",
              "      <td>1.00</td>\n",
              "      <td>770</td>\n",
              "      <td>10000</td>\n",
              "      <td>1.0</td>\n",
              "      <td>0</td>\n",
              "      <td>0</td>\n",
              "      <td>3</td>\n",
              "      <td>6</td>\n",
              "      <td>770</td>\n",
              "      <td>0</td>\n",
              "      <td>1933</td>\n",
              "      <td>0</td>\n",
              "      <td>98028</td>\n",
              "      <td>47.7379</td>\n",
              "      <td>-122.233</td>\n",
              "      <td>2720</td>\n",
              "      <td>8062</td>\n",
              "    </tr>\n",
              "    <tr>\n",
              "      <th>3</th>\n",
              "      <td>2487200875</td>\n",
              "      <td>604000.0</td>\n",
              "      <td>4</td>\n",
              "      <td>3.00</td>\n",
              "      <td>1960</td>\n",
              "      <td>5000</td>\n",
              "      <td>1.0</td>\n",
              "      <td>0</td>\n",
              "      <td>0</td>\n",
              "      <td>5</td>\n",
              "      <td>7</td>\n",
              "      <td>1050</td>\n",
              "      <td>910</td>\n",
              "      <td>1965</td>\n",
              "      <td>0</td>\n",
              "      <td>98136</td>\n",
              "      <td>47.5208</td>\n",
              "      <td>-122.393</td>\n",
              "      <td>1360</td>\n",
              "      <td>5000</td>\n",
              "    </tr>\n",
              "    <tr>\n",
              "      <th>4</th>\n",
              "      <td>1954400510</td>\n",
              "      <td>510000.0</td>\n",
              "      <td>3</td>\n",
              "      <td>2.00</td>\n",
              "      <td>1680</td>\n",
              "      <td>8080</td>\n",
              "      <td>1.0</td>\n",
              "      <td>0</td>\n",
              "      <td>0</td>\n",
              "      <td>3</td>\n",
              "      <td>8</td>\n",
              "      <td>1680</td>\n",
              "      <td>0</td>\n",
              "      <td>1987</td>\n",
              "      <td>0</td>\n",
              "      <td>98074</td>\n",
              "      <td>47.6168</td>\n",
              "      <td>-122.045</td>\n",
              "      <td>1800</td>\n",
              "      <td>7503</td>\n",
              "    </tr>\n",
              "  </tbody>\n",
              "</table>\n",
              "</div>"
            ],
            "text/plain": [
              "           id     price  bedrooms  ...     long  sqft_living15  sqft_lot15\n",
              "0  7129300520  221900.0         3  ... -122.257           1340        5650\n",
              "1  6414100192  538000.0         3  ... -122.319           1690        7639\n",
              "2  5631500400  180000.0         2  ... -122.233           2720        8062\n",
              "3  2487200875  604000.0         4  ... -122.393           1360        5000\n",
              "4  1954400510  510000.0         3  ... -122.045           1800        7503\n",
              "\n",
              "[5 rows x 20 columns]"
            ]
          },
          "metadata": {
            "tags": []
          },
          "execution_count": 3
        }
      ]
    },
    {
      "cell_type": "code",
      "metadata": {
        "colab": {
          "base_uri": "https://localhost:8080/",
          "height": 224
        },
        "id": "sUeIbp83fiCj",
        "outputId": "92853935-cfb4-4940-bee5-87d7c343a5da"
      },
      "source": [
        "# previewing the last five entries of the dataset\r\n",
        "\r\n",
        "house_price.tail()"
      ],
      "execution_count": 4,
      "outputs": [
        {
          "output_type": "execute_result",
          "data": {
            "text/html": [
              "<div>\n",
              "<style scoped>\n",
              "    .dataframe tbody tr th:only-of-type {\n",
              "        vertical-align: middle;\n",
              "    }\n",
              "\n",
              "    .dataframe tbody tr th {\n",
              "        vertical-align: top;\n",
              "    }\n",
              "\n",
              "    .dataframe thead th {\n",
              "        text-align: right;\n",
              "    }\n",
              "</style>\n",
              "<table border=\"1\" class=\"dataframe\">\n",
              "  <thead>\n",
              "    <tr style=\"text-align: right;\">\n",
              "      <th></th>\n",
              "      <th>id</th>\n",
              "      <th>price</th>\n",
              "      <th>bedrooms</th>\n",
              "      <th>bathrooms</th>\n",
              "      <th>sqft_living</th>\n",
              "      <th>sqft_lot</th>\n",
              "      <th>floors</th>\n",
              "      <th>waterfront</th>\n",
              "      <th>view</th>\n",
              "      <th>condition</th>\n",
              "      <th>grade</th>\n",
              "      <th>sqft_above</th>\n",
              "      <th>sqft_basement</th>\n",
              "      <th>yr_built</th>\n",
              "      <th>yr_renovated</th>\n",
              "      <th>zipcode</th>\n",
              "      <th>lat</th>\n",
              "      <th>long</th>\n",
              "      <th>sqft_living15</th>\n",
              "      <th>sqft_lot15</th>\n",
              "    </tr>\n",
              "  </thead>\n",
              "  <tbody>\n",
              "    <tr>\n",
              "      <th>21608</th>\n",
              "      <td>263000018</td>\n",
              "      <td>360000.0</td>\n",
              "      <td>3</td>\n",
              "      <td>2.50</td>\n",
              "      <td>1530</td>\n",
              "      <td>1131</td>\n",
              "      <td>3.0</td>\n",
              "      <td>0</td>\n",
              "      <td>0</td>\n",
              "      <td>3</td>\n",
              "      <td>8</td>\n",
              "      <td>1530</td>\n",
              "      <td>0</td>\n",
              "      <td>2009</td>\n",
              "      <td>0</td>\n",
              "      <td>98103</td>\n",
              "      <td>47.6993</td>\n",
              "      <td>-122.346</td>\n",
              "      <td>1530</td>\n",
              "      <td>1509</td>\n",
              "    </tr>\n",
              "    <tr>\n",
              "      <th>21609</th>\n",
              "      <td>6600060120</td>\n",
              "      <td>400000.0</td>\n",
              "      <td>4</td>\n",
              "      <td>2.50</td>\n",
              "      <td>2310</td>\n",
              "      <td>5813</td>\n",
              "      <td>2.0</td>\n",
              "      <td>0</td>\n",
              "      <td>0</td>\n",
              "      <td>3</td>\n",
              "      <td>8</td>\n",
              "      <td>2310</td>\n",
              "      <td>0</td>\n",
              "      <td>2014</td>\n",
              "      <td>0</td>\n",
              "      <td>98146</td>\n",
              "      <td>47.5107</td>\n",
              "      <td>-122.362</td>\n",
              "      <td>1830</td>\n",
              "      <td>7200</td>\n",
              "    </tr>\n",
              "    <tr>\n",
              "      <th>21610</th>\n",
              "      <td>1523300141</td>\n",
              "      <td>402101.0</td>\n",
              "      <td>2</td>\n",
              "      <td>0.75</td>\n",
              "      <td>1020</td>\n",
              "      <td>1350</td>\n",
              "      <td>2.0</td>\n",
              "      <td>0</td>\n",
              "      <td>0</td>\n",
              "      <td>3</td>\n",
              "      <td>7</td>\n",
              "      <td>1020</td>\n",
              "      <td>0</td>\n",
              "      <td>2009</td>\n",
              "      <td>0</td>\n",
              "      <td>98144</td>\n",
              "      <td>47.5944</td>\n",
              "      <td>-122.299</td>\n",
              "      <td>1020</td>\n",
              "      <td>2007</td>\n",
              "    </tr>\n",
              "    <tr>\n",
              "      <th>21611</th>\n",
              "      <td>291310100</td>\n",
              "      <td>400000.0</td>\n",
              "      <td>3</td>\n",
              "      <td>2.50</td>\n",
              "      <td>1600</td>\n",
              "      <td>2388</td>\n",
              "      <td>2.0</td>\n",
              "      <td>0</td>\n",
              "      <td>0</td>\n",
              "      <td>3</td>\n",
              "      <td>8</td>\n",
              "      <td>1600</td>\n",
              "      <td>0</td>\n",
              "      <td>2004</td>\n",
              "      <td>0</td>\n",
              "      <td>98027</td>\n",
              "      <td>47.5345</td>\n",
              "      <td>-122.069</td>\n",
              "      <td>1410</td>\n",
              "      <td>1287</td>\n",
              "    </tr>\n",
              "    <tr>\n",
              "      <th>21612</th>\n",
              "      <td>1523300157</td>\n",
              "      <td>325000.0</td>\n",
              "      <td>2</td>\n",
              "      <td>0.75</td>\n",
              "      <td>1020</td>\n",
              "      <td>1076</td>\n",
              "      <td>2.0</td>\n",
              "      <td>0</td>\n",
              "      <td>0</td>\n",
              "      <td>3</td>\n",
              "      <td>7</td>\n",
              "      <td>1020</td>\n",
              "      <td>0</td>\n",
              "      <td>2008</td>\n",
              "      <td>0</td>\n",
              "      <td>98144</td>\n",
              "      <td>47.5941</td>\n",
              "      <td>-122.299</td>\n",
              "      <td>1020</td>\n",
              "      <td>1357</td>\n",
              "    </tr>\n",
              "  </tbody>\n",
              "</table>\n",
              "</div>"
            ],
            "text/plain": [
              "               id     price  bedrooms  ...     long  sqft_living15  sqft_lot15\n",
              "21608   263000018  360000.0         3  ... -122.346           1530        1509\n",
              "21609  6600060120  400000.0         4  ... -122.362           1830        7200\n",
              "21610  1523300141  402101.0         2  ... -122.299           1020        2007\n",
              "21611   291310100  400000.0         3  ... -122.069           1410        1287\n",
              "21612  1523300157  325000.0         2  ... -122.299           1020        1357\n",
              "\n",
              "[5 rows x 20 columns]"
            ]
          },
          "metadata": {
            "tags": []
          },
          "execution_count": 4
        }
      ]
    },
    {
      "cell_type": "markdown",
      "metadata": {
        "id": "rb2ps8CGgmRA"
      },
      "source": [
        "## Checking the Data"
      ]
    },
    {
      "cell_type": "code",
      "metadata": {
        "colab": {
          "base_uri": "https://localhost:8080/"
        },
        "id": "wIIyR2rAknLA",
        "outputId": "65918cac-9dfd-40de-8ef8-cf4b2a514d75"
      },
      "source": [
        "# From our profile report, we can see that we don't have any duplicated rows\r\n",
        "# But let us check \r\n",
        "house_price.duplicated().sum()"
      ],
      "execution_count": 5,
      "outputs": [
        {
          "output_type": "execute_result",
          "data": {
            "text/plain": [
              "3"
            ]
          },
          "metadata": {
            "tags": []
          },
          "execution_count": 5
        }
      ]
    },
    {
      "cell_type": "markdown",
      "metadata": {
        "id": "1t2lM9QRD5bc"
      },
      "source": [
        "> There are 3 duplicate rows, therefor we have to remove them from the dataset"
      ]
    },
    {
      "cell_type": "code",
      "metadata": {
        "colab": {
          "base_uri": "https://localhost:8080/",
          "height": 224
        },
        "id": "AIo3ArYYvqTf",
        "outputId": "59a96809-f395-4f4a-c7cf-82a1ef4fa23e"
      },
      "source": [
        "# droping columns that are duplicated\r\n",
        "\r\n",
        "house_price.drop_duplicates().head()"
      ],
      "execution_count": 6,
      "outputs": [
        {
          "output_type": "execute_result",
          "data": {
            "text/html": [
              "<div>\n",
              "<style scoped>\n",
              "    .dataframe tbody tr th:only-of-type {\n",
              "        vertical-align: middle;\n",
              "    }\n",
              "\n",
              "    .dataframe tbody tr th {\n",
              "        vertical-align: top;\n",
              "    }\n",
              "\n",
              "    .dataframe thead th {\n",
              "        text-align: right;\n",
              "    }\n",
              "</style>\n",
              "<table border=\"1\" class=\"dataframe\">\n",
              "  <thead>\n",
              "    <tr style=\"text-align: right;\">\n",
              "      <th></th>\n",
              "      <th>id</th>\n",
              "      <th>price</th>\n",
              "      <th>bedrooms</th>\n",
              "      <th>bathrooms</th>\n",
              "      <th>sqft_living</th>\n",
              "      <th>sqft_lot</th>\n",
              "      <th>floors</th>\n",
              "      <th>waterfront</th>\n",
              "      <th>view</th>\n",
              "      <th>condition</th>\n",
              "      <th>grade</th>\n",
              "      <th>sqft_above</th>\n",
              "      <th>sqft_basement</th>\n",
              "      <th>yr_built</th>\n",
              "      <th>yr_renovated</th>\n",
              "      <th>zipcode</th>\n",
              "      <th>lat</th>\n",
              "      <th>long</th>\n",
              "      <th>sqft_living15</th>\n",
              "      <th>sqft_lot15</th>\n",
              "    </tr>\n",
              "  </thead>\n",
              "  <tbody>\n",
              "    <tr>\n",
              "      <th>0</th>\n",
              "      <td>7129300520</td>\n",
              "      <td>221900.0</td>\n",
              "      <td>3</td>\n",
              "      <td>1.00</td>\n",
              "      <td>1180</td>\n",
              "      <td>5650</td>\n",
              "      <td>1.0</td>\n",
              "      <td>0</td>\n",
              "      <td>0</td>\n",
              "      <td>3</td>\n",
              "      <td>7</td>\n",
              "      <td>1180</td>\n",
              "      <td>0</td>\n",
              "      <td>1955</td>\n",
              "      <td>0</td>\n",
              "      <td>98178</td>\n",
              "      <td>47.5112</td>\n",
              "      <td>-122.257</td>\n",
              "      <td>1340</td>\n",
              "      <td>5650</td>\n",
              "    </tr>\n",
              "    <tr>\n",
              "      <th>1</th>\n",
              "      <td>6414100192</td>\n",
              "      <td>538000.0</td>\n",
              "      <td>3</td>\n",
              "      <td>2.25</td>\n",
              "      <td>2570</td>\n",
              "      <td>7242</td>\n",
              "      <td>2.0</td>\n",
              "      <td>0</td>\n",
              "      <td>0</td>\n",
              "      <td>3</td>\n",
              "      <td>7</td>\n",
              "      <td>2170</td>\n",
              "      <td>400</td>\n",
              "      <td>1951</td>\n",
              "      <td>1991</td>\n",
              "      <td>98125</td>\n",
              "      <td>47.7210</td>\n",
              "      <td>-122.319</td>\n",
              "      <td>1690</td>\n",
              "      <td>7639</td>\n",
              "    </tr>\n",
              "    <tr>\n",
              "      <th>2</th>\n",
              "      <td>5631500400</td>\n",
              "      <td>180000.0</td>\n",
              "      <td>2</td>\n",
              "      <td>1.00</td>\n",
              "      <td>770</td>\n",
              "      <td>10000</td>\n",
              "      <td>1.0</td>\n",
              "      <td>0</td>\n",
              "      <td>0</td>\n",
              "      <td>3</td>\n",
              "      <td>6</td>\n",
              "      <td>770</td>\n",
              "      <td>0</td>\n",
              "      <td>1933</td>\n",
              "      <td>0</td>\n",
              "      <td>98028</td>\n",
              "      <td>47.7379</td>\n",
              "      <td>-122.233</td>\n",
              "      <td>2720</td>\n",
              "      <td>8062</td>\n",
              "    </tr>\n",
              "    <tr>\n",
              "      <th>3</th>\n",
              "      <td>2487200875</td>\n",
              "      <td>604000.0</td>\n",
              "      <td>4</td>\n",
              "      <td>3.00</td>\n",
              "      <td>1960</td>\n",
              "      <td>5000</td>\n",
              "      <td>1.0</td>\n",
              "      <td>0</td>\n",
              "      <td>0</td>\n",
              "      <td>5</td>\n",
              "      <td>7</td>\n",
              "      <td>1050</td>\n",
              "      <td>910</td>\n",
              "      <td>1965</td>\n",
              "      <td>0</td>\n",
              "      <td>98136</td>\n",
              "      <td>47.5208</td>\n",
              "      <td>-122.393</td>\n",
              "      <td>1360</td>\n",
              "      <td>5000</td>\n",
              "    </tr>\n",
              "    <tr>\n",
              "      <th>4</th>\n",
              "      <td>1954400510</td>\n",
              "      <td>510000.0</td>\n",
              "      <td>3</td>\n",
              "      <td>2.00</td>\n",
              "      <td>1680</td>\n",
              "      <td>8080</td>\n",
              "      <td>1.0</td>\n",
              "      <td>0</td>\n",
              "      <td>0</td>\n",
              "      <td>3</td>\n",
              "      <td>8</td>\n",
              "      <td>1680</td>\n",
              "      <td>0</td>\n",
              "      <td>1987</td>\n",
              "      <td>0</td>\n",
              "      <td>98074</td>\n",
              "      <td>47.6168</td>\n",
              "      <td>-122.045</td>\n",
              "      <td>1800</td>\n",
              "      <td>7503</td>\n",
              "    </tr>\n",
              "  </tbody>\n",
              "</table>\n",
              "</div>"
            ],
            "text/plain": [
              "           id     price  bedrooms  ...     long  sqft_living15  sqft_lot15\n",
              "0  7129300520  221900.0         3  ... -122.257           1340        5650\n",
              "1  6414100192  538000.0         3  ... -122.319           1690        7639\n",
              "2  5631500400  180000.0         2  ... -122.233           2720        8062\n",
              "3  2487200875  604000.0         4  ... -122.393           1360        5000\n",
              "4  1954400510  510000.0         3  ... -122.045           1800        7503\n",
              "\n",
              "[5 rows x 20 columns]"
            ]
          },
          "metadata": {
            "tags": []
          },
          "execution_count": 6
        }
      ]
    },
    {
      "cell_type": "code",
      "metadata": {
        "colab": {
          "base_uri": "https://localhost:8080/",
          "height": 224
        },
        "id": "XjNPq_j0Il6a",
        "outputId": "79d08507-998f-438c-e4ca-c9311f337fe6"
      },
      "source": [
        "#selecting the relevant columns to work with.\r\n",
        "house_price = house_price.drop({'id', 'lat', 'long'}, 1)\r\n",
        "house_price.head()"
      ],
      "execution_count": 7,
      "outputs": [
        {
          "output_type": "execute_result",
          "data": {
            "text/html": [
              "<div>\n",
              "<style scoped>\n",
              "    .dataframe tbody tr th:only-of-type {\n",
              "        vertical-align: middle;\n",
              "    }\n",
              "\n",
              "    .dataframe tbody tr th {\n",
              "        vertical-align: top;\n",
              "    }\n",
              "\n",
              "    .dataframe thead th {\n",
              "        text-align: right;\n",
              "    }\n",
              "</style>\n",
              "<table border=\"1\" class=\"dataframe\">\n",
              "  <thead>\n",
              "    <tr style=\"text-align: right;\">\n",
              "      <th></th>\n",
              "      <th>price</th>\n",
              "      <th>bedrooms</th>\n",
              "      <th>bathrooms</th>\n",
              "      <th>sqft_living</th>\n",
              "      <th>sqft_lot</th>\n",
              "      <th>floors</th>\n",
              "      <th>waterfront</th>\n",
              "      <th>view</th>\n",
              "      <th>condition</th>\n",
              "      <th>grade</th>\n",
              "      <th>sqft_above</th>\n",
              "      <th>sqft_basement</th>\n",
              "      <th>yr_built</th>\n",
              "      <th>yr_renovated</th>\n",
              "      <th>zipcode</th>\n",
              "      <th>sqft_living15</th>\n",
              "      <th>sqft_lot15</th>\n",
              "    </tr>\n",
              "  </thead>\n",
              "  <tbody>\n",
              "    <tr>\n",
              "      <th>0</th>\n",
              "      <td>221900.0</td>\n",
              "      <td>3</td>\n",
              "      <td>1.00</td>\n",
              "      <td>1180</td>\n",
              "      <td>5650</td>\n",
              "      <td>1.0</td>\n",
              "      <td>0</td>\n",
              "      <td>0</td>\n",
              "      <td>3</td>\n",
              "      <td>7</td>\n",
              "      <td>1180</td>\n",
              "      <td>0</td>\n",
              "      <td>1955</td>\n",
              "      <td>0</td>\n",
              "      <td>98178</td>\n",
              "      <td>1340</td>\n",
              "      <td>5650</td>\n",
              "    </tr>\n",
              "    <tr>\n",
              "      <th>1</th>\n",
              "      <td>538000.0</td>\n",
              "      <td>3</td>\n",
              "      <td>2.25</td>\n",
              "      <td>2570</td>\n",
              "      <td>7242</td>\n",
              "      <td>2.0</td>\n",
              "      <td>0</td>\n",
              "      <td>0</td>\n",
              "      <td>3</td>\n",
              "      <td>7</td>\n",
              "      <td>2170</td>\n",
              "      <td>400</td>\n",
              "      <td>1951</td>\n",
              "      <td>1991</td>\n",
              "      <td>98125</td>\n",
              "      <td>1690</td>\n",
              "      <td>7639</td>\n",
              "    </tr>\n",
              "    <tr>\n",
              "      <th>2</th>\n",
              "      <td>180000.0</td>\n",
              "      <td>2</td>\n",
              "      <td>1.00</td>\n",
              "      <td>770</td>\n",
              "      <td>10000</td>\n",
              "      <td>1.0</td>\n",
              "      <td>0</td>\n",
              "      <td>0</td>\n",
              "      <td>3</td>\n",
              "      <td>6</td>\n",
              "      <td>770</td>\n",
              "      <td>0</td>\n",
              "      <td>1933</td>\n",
              "      <td>0</td>\n",
              "      <td>98028</td>\n",
              "      <td>2720</td>\n",
              "      <td>8062</td>\n",
              "    </tr>\n",
              "    <tr>\n",
              "      <th>3</th>\n",
              "      <td>604000.0</td>\n",
              "      <td>4</td>\n",
              "      <td>3.00</td>\n",
              "      <td>1960</td>\n",
              "      <td>5000</td>\n",
              "      <td>1.0</td>\n",
              "      <td>0</td>\n",
              "      <td>0</td>\n",
              "      <td>5</td>\n",
              "      <td>7</td>\n",
              "      <td>1050</td>\n",
              "      <td>910</td>\n",
              "      <td>1965</td>\n",
              "      <td>0</td>\n",
              "      <td>98136</td>\n",
              "      <td>1360</td>\n",
              "      <td>5000</td>\n",
              "    </tr>\n",
              "    <tr>\n",
              "      <th>4</th>\n",
              "      <td>510000.0</td>\n",
              "      <td>3</td>\n",
              "      <td>2.00</td>\n",
              "      <td>1680</td>\n",
              "      <td>8080</td>\n",
              "      <td>1.0</td>\n",
              "      <td>0</td>\n",
              "      <td>0</td>\n",
              "      <td>3</td>\n",
              "      <td>8</td>\n",
              "      <td>1680</td>\n",
              "      <td>0</td>\n",
              "      <td>1987</td>\n",
              "      <td>0</td>\n",
              "      <td>98074</td>\n",
              "      <td>1800</td>\n",
              "      <td>7503</td>\n",
              "    </tr>\n",
              "  </tbody>\n",
              "</table>\n",
              "</div>"
            ],
            "text/plain": [
              "      price  bedrooms  bathrooms  ...  zipcode  sqft_living15  sqft_lot15\n",
              "0  221900.0         3       1.00  ...    98178           1340        5650\n",
              "1  538000.0         3       2.25  ...    98125           1690        7639\n",
              "2  180000.0         2       1.00  ...    98028           2720        8062\n",
              "3  604000.0         4       3.00  ...    98136           1360        5000\n",
              "4  510000.0         3       2.00  ...    98074           1800        7503\n",
              "\n",
              "[5 rows x 17 columns]"
            ]
          },
          "metadata": {
            "tags": []
          },
          "execution_count": 7
        }
      ]
    },
    {
      "cell_type": "markdown",
      "metadata": {
        "id": "fnjucf7feBRA"
      },
      "source": [
        "## Data Cleaning"
      ]
    },
    {
      "cell_type": "code",
      "metadata": {
        "colab": {
          "base_uri": "https://localhost:8080/"
        },
        "id": "Egbi7pWee7lB",
        "outputId": "ba41e5c6-3bec-4a48-f556-b1ccd0057c41"
      },
      "source": [
        "# finding the shape of the dataframe\r\n",
        "house_price.shape"
      ],
      "execution_count": 8,
      "outputs": [
        {
          "output_type": "execute_result",
          "data": {
            "text/plain": [
              "(21613, 17)"
            ]
          },
          "metadata": {
            "tags": []
          },
          "execution_count": 8
        }
      ]
    },
    {
      "cell_type": "code",
      "metadata": {
        "colab": {
          "base_uri": "https://localhost:8080/"
        },
        "id": "Spf5X918fUEG",
        "outputId": "e5cfb77f-df8e-41f6-b5e6-54c1ecb4070c"
      },
      "source": [
        "# getting to know about the data\r\n",
        "\r\n",
        "house_price.info()"
      ],
      "execution_count": 9,
      "outputs": [
        {
          "output_type": "stream",
          "text": [
            "<class 'pandas.core.frame.DataFrame'>\n",
            "RangeIndex: 21613 entries, 0 to 21612\n",
            "Data columns (total 17 columns):\n",
            " #   Column         Non-Null Count  Dtype  \n",
            "---  ------         --------------  -----  \n",
            " 0   price          21613 non-null  float64\n",
            " 1   bedrooms       21613 non-null  int64  \n",
            " 2   bathrooms      21613 non-null  float64\n",
            " 3   sqft_living    21613 non-null  int64  \n",
            " 4   sqft_lot       21613 non-null  int64  \n",
            " 5   floors         21613 non-null  float64\n",
            " 6   waterfront     21613 non-null  int64  \n",
            " 7   view           21613 non-null  int64  \n",
            " 8   condition      21613 non-null  int64  \n",
            " 9   grade          21613 non-null  int64  \n",
            " 10  sqft_above     21613 non-null  int64  \n",
            " 11  sqft_basement  21613 non-null  int64  \n",
            " 12  yr_built       21613 non-null  int64  \n",
            " 13  yr_renovated   21613 non-null  int64  \n",
            " 14  zipcode        21613 non-null  int64  \n",
            " 15  sqft_living15  21613 non-null  int64  \n",
            " 16  sqft_lot15     21613 non-null  int64  \n",
            "dtypes: float64(3), int64(14)\n",
            "memory usage: 2.8 MB\n"
          ],
          "name": "stdout"
        }
      ]
    },
    {
      "cell_type": "code",
      "metadata": {
        "colab": {
          "base_uri": "https://localhost:8080/",
          "height": 317
        },
        "id": "bSZTgQvRfG0d",
        "outputId": "97aa78c0-97a6-4c1b-96c3-eb86f87f2fea"
      },
      "source": [
        "# data description\r\n",
        "\r\n",
        "house_price.describe()"
      ],
      "execution_count": 10,
      "outputs": [
        {
          "output_type": "execute_result",
          "data": {
            "text/html": [
              "<div>\n",
              "<style scoped>\n",
              "    .dataframe tbody tr th:only-of-type {\n",
              "        vertical-align: middle;\n",
              "    }\n",
              "\n",
              "    .dataframe tbody tr th {\n",
              "        vertical-align: top;\n",
              "    }\n",
              "\n",
              "    .dataframe thead th {\n",
              "        text-align: right;\n",
              "    }\n",
              "</style>\n",
              "<table border=\"1\" class=\"dataframe\">\n",
              "  <thead>\n",
              "    <tr style=\"text-align: right;\">\n",
              "      <th></th>\n",
              "      <th>price</th>\n",
              "      <th>bedrooms</th>\n",
              "      <th>bathrooms</th>\n",
              "      <th>sqft_living</th>\n",
              "      <th>sqft_lot</th>\n",
              "      <th>floors</th>\n",
              "      <th>waterfront</th>\n",
              "      <th>view</th>\n",
              "      <th>condition</th>\n",
              "      <th>grade</th>\n",
              "      <th>sqft_above</th>\n",
              "      <th>sqft_basement</th>\n",
              "      <th>yr_built</th>\n",
              "      <th>yr_renovated</th>\n",
              "      <th>zipcode</th>\n",
              "      <th>sqft_living15</th>\n",
              "      <th>sqft_lot15</th>\n",
              "    </tr>\n",
              "  </thead>\n",
              "  <tbody>\n",
              "    <tr>\n",
              "      <th>count</th>\n",
              "      <td>2.161300e+04</td>\n",
              "      <td>21613.000000</td>\n",
              "      <td>21613.000000</td>\n",
              "      <td>21613.000000</td>\n",
              "      <td>2.161300e+04</td>\n",
              "      <td>21613.000000</td>\n",
              "      <td>21613.000000</td>\n",
              "      <td>21613.000000</td>\n",
              "      <td>21613.000000</td>\n",
              "      <td>21613.000000</td>\n",
              "      <td>21613.000000</td>\n",
              "      <td>21613.000000</td>\n",
              "      <td>21613.000000</td>\n",
              "      <td>21613.000000</td>\n",
              "      <td>21613.000000</td>\n",
              "      <td>21613.000000</td>\n",
              "      <td>21613.000000</td>\n",
              "    </tr>\n",
              "    <tr>\n",
              "      <th>mean</th>\n",
              "      <td>5.401822e+05</td>\n",
              "      <td>3.370842</td>\n",
              "      <td>2.114757</td>\n",
              "      <td>2079.899736</td>\n",
              "      <td>1.510697e+04</td>\n",
              "      <td>1.494309</td>\n",
              "      <td>0.007542</td>\n",
              "      <td>0.234303</td>\n",
              "      <td>3.409430</td>\n",
              "      <td>7.656873</td>\n",
              "      <td>1788.390691</td>\n",
              "      <td>291.509045</td>\n",
              "      <td>1971.005136</td>\n",
              "      <td>84.402258</td>\n",
              "      <td>98077.939805</td>\n",
              "      <td>1986.552492</td>\n",
              "      <td>12768.455652</td>\n",
              "    </tr>\n",
              "    <tr>\n",
              "      <th>std</th>\n",
              "      <td>3.673622e+05</td>\n",
              "      <td>0.930062</td>\n",
              "      <td>0.770163</td>\n",
              "      <td>918.440897</td>\n",
              "      <td>4.142051e+04</td>\n",
              "      <td>0.539989</td>\n",
              "      <td>0.086517</td>\n",
              "      <td>0.766318</td>\n",
              "      <td>0.650743</td>\n",
              "      <td>1.175459</td>\n",
              "      <td>828.090978</td>\n",
              "      <td>442.575043</td>\n",
              "      <td>29.373411</td>\n",
              "      <td>401.679240</td>\n",
              "      <td>53.505026</td>\n",
              "      <td>685.391304</td>\n",
              "      <td>27304.179631</td>\n",
              "    </tr>\n",
              "    <tr>\n",
              "      <th>min</th>\n",
              "      <td>7.500000e+04</td>\n",
              "      <td>0.000000</td>\n",
              "      <td>0.000000</td>\n",
              "      <td>290.000000</td>\n",
              "      <td>5.200000e+02</td>\n",
              "      <td>1.000000</td>\n",
              "      <td>0.000000</td>\n",
              "      <td>0.000000</td>\n",
              "      <td>1.000000</td>\n",
              "      <td>1.000000</td>\n",
              "      <td>290.000000</td>\n",
              "      <td>0.000000</td>\n",
              "      <td>1900.000000</td>\n",
              "      <td>0.000000</td>\n",
              "      <td>98001.000000</td>\n",
              "      <td>399.000000</td>\n",
              "      <td>651.000000</td>\n",
              "    </tr>\n",
              "    <tr>\n",
              "      <th>25%</th>\n",
              "      <td>3.219500e+05</td>\n",
              "      <td>3.000000</td>\n",
              "      <td>1.750000</td>\n",
              "      <td>1427.000000</td>\n",
              "      <td>5.040000e+03</td>\n",
              "      <td>1.000000</td>\n",
              "      <td>0.000000</td>\n",
              "      <td>0.000000</td>\n",
              "      <td>3.000000</td>\n",
              "      <td>7.000000</td>\n",
              "      <td>1190.000000</td>\n",
              "      <td>0.000000</td>\n",
              "      <td>1951.000000</td>\n",
              "      <td>0.000000</td>\n",
              "      <td>98033.000000</td>\n",
              "      <td>1490.000000</td>\n",
              "      <td>5100.000000</td>\n",
              "    </tr>\n",
              "    <tr>\n",
              "      <th>50%</th>\n",
              "      <td>4.500000e+05</td>\n",
              "      <td>3.000000</td>\n",
              "      <td>2.250000</td>\n",
              "      <td>1910.000000</td>\n",
              "      <td>7.618000e+03</td>\n",
              "      <td>1.500000</td>\n",
              "      <td>0.000000</td>\n",
              "      <td>0.000000</td>\n",
              "      <td>3.000000</td>\n",
              "      <td>7.000000</td>\n",
              "      <td>1560.000000</td>\n",
              "      <td>0.000000</td>\n",
              "      <td>1975.000000</td>\n",
              "      <td>0.000000</td>\n",
              "      <td>98065.000000</td>\n",
              "      <td>1840.000000</td>\n",
              "      <td>7620.000000</td>\n",
              "    </tr>\n",
              "    <tr>\n",
              "      <th>75%</th>\n",
              "      <td>6.450000e+05</td>\n",
              "      <td>4.000000</td>\n",
              "      <td>2.500000</td>\n",
              "      <td>2550.000000</td>\n",
              "      <td>1.068800e+04</td>\n",
              "      <td>2.000000</td>\n",
              "      <td>0.000000</td>\n",
              "      <td>0.000000</td>\n",
              "      <td>4.000000</td>\n",
              "      <td>8.000000</td>\n",
              "      <td>2210.000000</td>\n",
              "      <td>560.000000</td>\n",
              "      <td>1997.000000</td>\n",
              "      <td>0.000000</td>\n",
              "      <td>98118.000000</td>\n",
              "      <td>2360.000000</td>\n",
              "      <td>10083.000000</td>\n",
              "    </tr>\n",
              "    <tr>\n",
              "      <th>max</th>\n",
              "      <td>7.700000e+06</td>\n",
              "      <td>33.000000</td>\n",
              "      <td>8.000000</td>\n",
              "      <td>13540.000000</td>\n",
              "      <td>1.651359e+06</td>\n",
              "      <td>3.500000</td>\n",
              "      <td>1.000000</td>\n",
              "      <td>4.000000</td>\n",
              "      <td>5.000000</td>\n",
              "      <td>13.000000</td>\n",
              "      <td>9410.000000</td>\n",
              "      <td>4820.000000</td>\n",
              "      <td>2015.000000</td>\n",
              "      <td>2015.000000</td>\n",
              "      <td>98199.000000</td>\n",
              "      <td>6210.000000</td>\n",
              "      <td>871200.000000</td>\n",
              "    </tr>\n",
              "  </tbody>\n",
              "</table>\n",
              "</div>"
            ],
            "text/plain": [
              "              price      bedrooms  ...  sqft_living15     sqft_lot15\n",
              "count  2.161300e+04  21613.000000  ...   21613.000000   21613.000000\n",
              "mean   5.401822e+05      3.370842  ...    1986.552492   12768.455652\n",
              "std    3.673622e+05      0.930062  ...     685.391304   27304.179631\n",
              "min    7.500000e+04      0.000000  ...     399.000000     651.000000\n",
              "25%    3.219500e+05      3.000000  ...    1490.000000    5100.000000\n",
              "50%    4.500000e+05      3.000000  ...    1840.000000    7620.000000\n",
              "75%    6.450000e+05      4.000000  ...    2360.000000   10083.000000\n",
              "max    7.700000e+06     33.000000  ...    6210.000000  871200.000000\n",
              "\n",
              "[8 rows x 17 columns]"
            ]
          },
          "metadata": {
            "tags": []
          },
          "execution_count": 10
        }
      ]
    },
    {
      "cell_type": "code",
      "metadata": {
        "colab": {
          "base_uri": "https://localhost:8080/"
        },
        "id": "9_lFxj0KeF18",
        "outputId": "937c1ccb-8d5f-4b0d-8d9e-6ff1d15c5fee"
      },
      "source": [
        "house_price.isnull().sum()"
      ],
      "execution_count": 11,
      "outputs": [
        {
          "output_type": "execute_result",
          "data": {
            "text/plain": [
              "price            0\n",
              "bedrooms         0\n",
              "bathrooms        0\n",
              "sqft_living      0\n",
              "sqft_lot         0\n",
              "floors           0\n",
              "waterfront       0\n",
              "view             0\n",
              "condition        0\n",
              "grade            0\n",
              "sqft_above       0\n",
              "sqft_basement    0\n",
              "yr_built         0\n",
              "yr_renovated     0\n",
              "zipcode          0\n",
              "sqft_living15    0\n",
              "sqft_lot15       0\n",
              "dtype: int64"
            ]
          },
          "metadata": {
            "tags": []
          },
          "execution_count": 11
        }
      ]
    },
    {
      "cell_type": "markdown",
      "metadata": {
        "id": "8zZJgJ7VDycD"
      },
      "source": [
        "> There are no null values"
      ]
    },
    {
      "cell_type": "markdown",
      "metadata": {
        "id": "Trc-Cbu_0ybF"
      },
      "source": [
        "## EXPLORATORY DATA ANALYSIS"
      ]
    },
    {
      "cell_type": "markdown",
      "metadata": {
        "id": "OJ6XteDW1Cp0"
      },
      "source": [
        "### UNIVARIATE ANALYSIS"
      ]
    },
    {
      "cell_type": "code",
      "metadata": {
        "colab": {
          "base_uri": "https://localhost:8080/"
        },
        "id": "TjvdHs8C1gds",
        "outputId": "cfa7f6fd-e735-47a2-a554-d1f39ef61e07"
      },
      "source": [
        "# finding the information about the variables\r\n",
        "house_price.info()"
      ],
      "execution_count": 12,
      "outputs": [
        {
          "output_type": "stream",
          "text": [
            "<class 'pandas.core.frame.DataFrame'>\n",
            "RangeIndex: 21613 entries, 0 to 21612\n",
            "Data columns (total 17 columns):\n",
            " #   Column         Non-Null Count  Dtype  \n",
            "---  ------         --------------  -----  \n",
            " 0   price          21613 non-null  float64\n",
            " 1   bedrooms       21613 non-null  int64  \n",
            " 2   bathrooms      21613 non-null  float64\n",
            " 3   sqft_living    21613 non-null  int64  \n",
            " 4   sqft_lot       21613 non-null  int64  \n",
            " 5   floors         21613 non-null  float64\n",
            " 6   waterfront     21613 non-null  int64  \n",
            " 7   view           21613 non-null  int64  \n",
            " 8   condition      21613 non-null  int64  \n",
            " 9   grade          21613 non-null  int64  \n",
            " 10  sqft_above     21613 non-null  int64  \n",
            " 11  sqft_basement  21613 non-null  int64  \n",
            " 12  yr_built       21613 non-null  int64  \n",
            " 13  yr_renovated   21613 non-null  int64  \n",
            " 14  zipcode        21613 non-null  int64  \n",
            " 15  sqft_living15  21613 non-null  int64  \n",
            " 16  sqft_lot15     21613 non-null  int64  \n",
            "dtypes: float64(3), int64(14)\n",
            "memory usage: 2.8 MB\n"
          ],
          "name": "stdout"
        }
      ]
    },
    {
      "cell_type": "code",
      "metadata": {
        "colab": {
          "base_uri": "https://localhost:8080/"
        },
        "id": "njt_h4OS5xK7",
        "outputId": "75459581-7274-4d71-f08b-f8b369590f35"
      },
      "source": [
        "# checking for anormalities\r\n",
        "Q1 = house_price.quantile(0.25)\r\n",
        "Q3 = house_price.quantile(0.75)\r\n",
        "\r\n",
        "IQR = Q3 - Q1\r\n",
        "IQR\r\n",
        "lower_bound = Q1 - (1.5*IQR)\r\n",
        "upper_bound = Q3 + (1.5*IQR)\r\n",
        "\r\n",
        "print('Lower_Bound' +str(lower_bound))\r\n",
        "print('Upper_Bound' +str(upper_bound))"
      ],
      "execution_count": 13,
      "outputs": [
        {
          "output_type": "stream",
          "text": [
            "Lower_Boundprice           -162625.000\n",
            "bedrooms              1.500\n",
            "bathrooms             0.625\n",
            "sqft_living        -257.500\n",
            "sqft_lot          -3432.000\n",
            "floors               -0.500\n",
            "waterfront            0.000\n",
            "view                  0.000\n",
            "condition             1.500\n",
            "grade                 5.500\n",
            "sqft_above         -340.000\n",
            "sqft_basement      -840.000\n",
            "yr_built           1882.000\n",
            "yr_renovated          0.000\n",
            "zipcode           97905.500\n",
            "sqft_living15       185.000\n",
            "sqft_lot15        -2374.500\n",
            "dtype: float64\n",
            "Upper_Boundprice            1129575.000\n",
            "bedrooms               5.500\n",
            "bathrooms              3.625\n",
            "sqft_living         4234.500\n",
            "sqft_lot           19160.000\n",
            "floors                 3.500\n",
            "waterfront             0.000\n",
            "view                   0.000\n",
            "condition              5.500\n",
            "grade                  9.500\n",
            "sqft_above          3740.000\n",
            "sqft_basement       1400.000\n",
            "yr_built            2066.000\n",
            "yr_renovated           0.000\n",
            "zipcode            98245.500\n",
            "sqft_living15       3665.000\n",
            "sqft_lot15         17557.500\n",
            "dtype: float64\n"
          ],
          "name": "stdout"
        }
      ]
    },
    {
      "cell_type": "code",
      "metadata": {
        "id": "rZ058Jcjv8Ex",
        "colab": {
          "base_uri": "https://localhost:8080/",
          "height": 1000
        },
        "outputId": "a7eae5fc-709c-4944-ce89-b79c08fd2aa3"
      },
      "source": [
        "# checking for outliers\r\n",
        "col_names = ['price',\t'bedrooms',\t'bathrooms', 'view',\t'condition',\t'grade',\t\r\n",
        "             \t'yr_built',\t'yr_renovated']\r\n",
        "\r\n",
        "fig, ax = plt.subplots(len(col_names), figsize= (15,20))\r\n",
        "\r\n",
        "for i, col_val in enumerate(col_names):\r\n",
        "  sns.boxplot(y = house_price[col_val], ax= ax[i])\r\n",
        "  ax[i].set_title('Box plot - {}'.format(col_val), fontsize= 10)\r\n",
        "  ax[i].set_xlabel(col_val, fontsize= 8)\r\n",
        "plt.show()"
      ],
      "execution_count": 14,
      "outputs": [
        {
          "output_type": "display_data",
          "data": {
            "image/png": "[encoded data removed]",
            "text/plain": [
              "<Figure size 1080x1440 with 8 Axes>"
            ]
          },
          "metadata": {
            "tags": [],
            "needs_background": "light"
          }
        }
      ]
    },
    {
      "cell_type": "markdown",
      "metadata": {
        "id": "qeMFYwdwT95T"
      },
      "source": [
        "> Variables with outliers include; Price, Bedrooms, bathrooms, view, grade, year renovated. These is because houses cost highly, other houses have many bedrooms and bathrooms therefore seen as outliers.\r\n",
        "\r\n",
        "\r\n"
      ]
    },
    {
      "cell_type": "markdown",
      "metadata": {
        "id": "UExuc_yEETt_"
      },
      "source": [
        "> "
      ]
    },
    {
      "cell_type": "code",
      "metadata": {
        "colab": {
          "base_uri": "https://localhost:8080/",
          "height": 224
        },
        "id": "OlVfuYq97Syf",
        "outputId": "2c7b2e1d-337c-42ad-bbfb-9320a5fe50ba"
      },
      "source": [
        "# Removing the outliers\r\n",
        "\r\n",
        "house_price1 = house_price[~((house_price < (Q1 - 1.5 * IQR)) |(house_price > (Q3 + 1.5 * IQR))).any(axis=1)]\r\n",
        "house_price1.head()"
      ],
      "execution_count": 15,
      "outputs": [
        {
          "output_type": "execute_result",
          "data": {
            "text/html": [
              "<div>\n",
              "<style scoped>\n",
              "    .dataframe tbody tr th:only-of-type {\n",
              "        vertical-align: middle;\n",
              "    }\n",
              "\n",
              "    .dataframe tbody tr th {\n",
              "        vertical-align: top;\n",
              "    }\n",
              "\n",
              "    .dataframe thead th {\n",
              "        text-align: right;\n",
              "    }\n",
              "</style>\n",
              "<table border=\"1\" class=\"dataframe\">\n",
              "  <thead>\n",
              "    <tr style=\"text-align: right;\">\n",
              "      <th></th>\n",
              "      <th>price</th>\n",
              "      <th>bedrooms</th>\n",
              "      <th>bathrooms</th>\n",
              "      <th>sqft_living</th>\n",
              "      <th>sqft_lot</th>\n",
              "      <th>floors</th>\n",
              "      <th>waterfront</th>\n",
              "      <th>view</th>\n",
              "      <th>condition</th>\n",
              "      <th>grade</th>\n",
              "      <th>sqft_above</th>\n",
              "      <th>sqft_basement</th>\n",
              "      <th>yr_built</th>\n",
              "      <th>yr_renovated</th>\n",
              "      <th>zipcode</th>\n",
              "      <th>sqft_living15</th>\n",
              "      <th>sqft_lot15</th>\n",
              "    </tr>\n",
              "  </thead>\n",
              "  <tbody>\n",
              "    <tr>\n",
              "      <th>0</th>\n",
              "      <td>221900.0</td>\n",
              "      <td>3</td>\n",
              "      <td>1.00</td>\n",
              "      <td>1180</td>\n",
              "      <td>5650</td>\n",
              "      <td>1.0</td>\n",
              "      <td>0</td>\n",
              "      <td>0</td>\n",
              "      <td>3</td>\n",
              "      <td>7</td>\n",
              "      <td>1180</td>\n",
              "      <td>0</td>\n",
              "      <td>1955</td>\n",
              "      <td>0</td>\n",
              "      <td>98178</td>\n",
              "      <td>1340</td>\n",
              "      <td>5650</td>\n",
              "    </tr>\n",
              "    <tr>\n",
              "      <th>2</th>\n",
              "      <td>180000.0</td>\n",
              "      <td>2</td>\n",
              "      <td>1.00</td>\n",
              "      <td>770</td>\n",
              "      <td>10000</td>\n",
              "      <td>1.0</td>\n",
              "      <td>0</td>\n",
              "      <td>0</td>\n",
              "      <td>3</td>\n",
              "      <td>6</td>\n",
              "      <td>770</td>\n",
              "      <td>0</td>\n",
              "      <td>1933</td>\n",
              "      <td>0</td>\n",
              "      <td>98028</td>\n",
              "      <td>2720</td>\n",
              "      <td>8062</td>\n",
              "    </tr>\n",
              "    <tr>\n",
              "      <th>3</th>\n",
              "      <td>604000.0</td>\n",
              "      <td>4</td>\n",
              "      <td>3.00</td>\n",
              "      <td>1960</td>\n",
              "      <td>5000</td>\n",
              "      <td>1.0</td>\n",
              "      <td>0</td>\n",
              "      <td>0</td>\n",
              "      <td>5</td>\n",
              "      <td>7</td>\n",
              "      <td>1050</td>\n",
              "      <td>910</td>\n",
              "      <td>1965</td>\n",
              "      <td>0</td>\n",
              "      <td>98136</td>\n",
              "      <td>1360</td>\n",
              "      <td>5000</td>\n",
              "    </tr>\n",
              "    <tr>\n",
              "      <th>4</th>\n",
              "      <td>510000.0</td>\n",
              "      <td>3</td>\n",
              "      <td>2.00</td>\n",
              "      <td>1680</td>\n",
              "      <td>8080</td>\n",
              "      <td>1.0</td>\n",
              "      <td>0</td>\n",
              "      <td>0</td>\n",
              "      <td>3</td>\n",
              "      <td>8</td>\n",
              "      <td>1680</td>\n",
              "      <td>0</td>\n",
              "      <td>1987</td>\n",
              "      <td>0</td>\n",
              "      <td>98074</td>\n",
              "      <td>1800</td>\n",
              "      <td>7503</td>\n",
              "    </tr>\n",
              "    <tr>\n",
              "      <th>6</th>\n",
              "      <td>257500.0</td>\n",
              "      <td>3</td>\n",
              "      <td>2.25</td>\n",
              "      <td>1715</td>\n",
              "      <td>6819</td>\n",
              "      <td>2.0</td>\n",
              "      <td>0</td>\n",
              "      <td>0</td>\n",
              "      <td>3</td>\n",
              "      <td>7</td>\n",
              "      <td>1715</td>\n",
              "      <td>0</td>\n",
              "      <td>1995</td>\n",
              "      <td>0</td>\n",
              "      <td>98003</td>\n",
              "      <td>2238</td>\n",
              "      <td>6819</td>\n",
              "    </tr>\n",
              "  </tbody>\n",
              "</table>\n",
              "</div>"
            ],
            "text/plain": [
              "      price  bedrooms  bathrooms  ...  zipcode  sqft_living15  sqft_lot15\n",
              "0  221900.0         3       1.00  ...    98178           1340        5650\n",
              "2  180000.0         2       1.00  ...    98028           2720        8062\n",
              "3  604000.0         4       3.00  ...    98136           1360        5000\n",
              "4  510000.0         3       2.00  ...    98074           1800        7503\n",
              "6  257500.0         3       2.25  ...    98003           2238        6819\n",
              "\n",
              "[5 rows x 17 columns]"
            ]
          },
          "metadata": {
            "tags": []
          },
          "execution_count": 15
        }
      ]
    },
    {
      "cell_type": "code",
      "metadata": {
        "colab": {
          "base_uri": "https://localhost:8080/"
        },
        "id": "UJXP1iUN_ld6",
        "outputId": "358ab2ec-8229-46f7-86da-6cfdc5902496"
      },
      "source": [
        "# Getting the size of our data set after removing the outliers\r\n",
        "house_price1.shape\r\n",
        "\r\n",
        "# Afer removing the outliers we remain with 863 rows."
      ],
      "execution_count": 16,
      "outputs": [
        {
          "output_type": "execute_result",
          "data": {
            "text/plain": [
              "(15068, 17)"
            ]
          },
          "metadata": {
            "tags": []
          },
          "execution_count": 16
        }
      ]
    },
    {
      "cell_type": "markdown",
      "metadata": {
        "id": "OvZtU3oBOSGA"
      },
      "source": [
        "> since removing the outliers we shall lose over 6000 data set, we choose to work with the outliers.\r\n",
        "> Removing the outliers we shall lose almost a quater of the dataset."
      ]
    },
    {
      "cell_type": "code",
      "metadata": {
        "colab": {
          "base_uri": "https://localhost:8080/",
          "height": 301
        },
        "id": "4wsLiJgk7dRj",
        "outputId": "de129dd0-27f7-4b60-d1bc-b7ecc80439ca"
      },
      "source": [
        "# Bar graph showing the number of bedrooms per unit.\n",
        "\n",
        "house_price.bedrooms.value_counts().plot.bar()\n",
        "plt.title('The number of bedroom per unit')\n",
        "# most of the houses have 3 bedrooms."
      ],
      "execution_count": 17,
      "outputs": [
        {
          "output_type": "execute_result",
          "data": {
            "text/plain": [
              "Text(0.5, 1.0, 'The number of bedroom per unit')"
            ]
          },
          "metadata": {
            "tags": []
          },
          "execution_count": 17
        },
        {
          "output_type": "display_data",
          "data": {
            "image/png": "[encoded data removed]",
            "text/plain": [
              "<Figure size 432x288 with 1 Axes>"
            ]
          },
          "metadata": {
            "tags": [],
            "needs_background": "light"
          }
        }
      ]
    },
    {
      "cell_type": "markdown",
      "metadata": {
        "id": "D-zGKXv5Vi8r"
      },
      "source": [
        "> Most of the houses contain 3 bedrooms. Others that have relatevely high bedroom are of 4, 2 and 5 bedrooms. Houses with smaller number of bedroom are those with 6, 1 and 7 bedrooms. "
      ]
    },
    {
      "cell_type": "code",
      "metadata": {
        "colab": {
          "base_uri": "https://localhost:8080/",
          "height": 301
        },
        "id": "CvTvSvgj994c",
        "outputId": "4d94a5b7-6697-4a65-9018-3e53ff7a63cd"
      },
      "source": [
        "# Bar graph showing the level of the house.\r\n",
        "\r\n",
        "house_price.grade.value_counts().plot.bar()\r\n",
        "plt.title('Grade of the House')"
      ],
      "execution_count": 18,
      "outputs": [
        {
          "output_type": "execute_result",
          "data": {
            "text/plain": [
              "Text(0.5, 1.0, 'Grade of the House')"
            ]
          },
          "metadata": {
            "tags": []
          },
          "execution_count": 18
        },
        {
          "output_type": "display_data",
          "data": {
            "image/png": "[encoded data removed]",
            "text/plain": [
              "<Figure size 432x288 with 1 Axes>"
            ]
          },
          "metadata": {
            "tags": [],
            "needs_background": "light"
          }
        }
      ]
    },
    {
      "cell_type": "markdown",
      "metadata": {
        "id": "rgR77zpwWihL"
      },
      "source": [
        "> Most of the houses are of grade 7, followed by grade 8, 9, and 10 respectively.\r\n",
        "\r\n",
        "> Least houses are of grades 11, 5, 12 and 4"
      ]
    },
    {
      "cell_type": "code",
      "metadata": {
        "colab": {
          "base_uri": "https://localhost:8080/",
          "height": 304
        },
        "id": "NOph0iIq-JE9",
        "outputId": "e4bf6e92-7c4d-45ef-85a9-6800c0d09ed9"
      },
      "source": [
        "# Bar graph showing the floor of the house.\r\n",
        "\r\n",
        "house_price.floors.value_counts().plot.bar()\r\n",
        "plt.title('Floor Size')"
      ],
      "execution_count": 19,
      "outputs": [
        {
          "output_type": "execute_result",
          "data": {
            "text/plain": [
              "Text(0.5, 1.0, 'Floor Size')"
            ]
          },
          "metadata": {
            "tags": []
          },
          "execution_count": 19
        },
        {
          "output_type": "display_data",
          "data": {
            "image/png": "[encoded data removed]",
            "text/plain": [
              "<Figure size 432x288 with 1 Axes>"
            ]
          },
          "metadata": {
            "tags": [],
            "needs_background": "light"
          }
        }
      ]
    },
    {
      "cell_type": "markdown",
      "metadata": {
        "id": "m8U9WBZgXhrR"
      },
      "source": [
        "> Most of the houses are of floor size 1.0, followed by 2.0, 1.5, 3.0 and 2.5 respectively."
      ]
    },
    {
      "cell_type": "code",
      "metadata": {
        "colab": {
          "base_uri": "https://localhost:8080/",
          "height": 281
        },
        "id": "NINYGPwgQoB4",
        "outputId": "3f5cefb5-9f79-456e-de43-fed835850431"
      },
      "source": [
        "house_price.waterfront.value_counts().plot(kind = 'pie')\r\n",
        "plt.title('Waterproof Yes/No')"
      ],
      "execution_count": 20,
      "outputs": [
        {
          "output_type": "execute_result",
          "data": {
            "text/plain": [
              "Text(0.5, 1.0, 'Waterproof Yes/No')"
            ]
          },
          "metadata": {
            "tags": []
          },
          "execution_count": 20
        },
        {
          "output_type": "display_data",
          "data": {
            "image/png": "[encoded data removed]",
            "text/plain": [
              "<Figure size 432x288 with 1 Axes>"
            ]
          },
          "metadata": {
            "tags": []
          }
        }
      ]
    },
    {
      "cell_type": "markdown",
      "metadata": {
        "id": "ZNtJe5nPYaUE"
      },
      "source": [
        "> From our pie chart, over 98% of the houses are waterproof while only around only 2% are not waterproof "
      ]
    },
    {
      "cell_type": "code",
      "metadata": {
        "colab": {
          "base_uri": "https://localhost:8080/",
          "height": 298
        },
        "id": "mFtDmDh38LcM",
        "outputId": "a6745a84-f6f5-4267-9b35-d3f8521ad860"
      },
      "source": [
        "# histogram showing the year of the house construction\r\n",
        "\r\n",
        "house_price['yr_built'].hist()\r\n",
        "plt.title('The Year of House Construction')"
      ],
      "execution_count": 21,
      "outputs": [
        {
          "output_type": "execute_result",
          "data": {
            "text/plain": [
              "Text(0.5, 1.0, 'The Year of House Construction')"
            ]
          },
          "metadata": {
            "tags": []
          },
          "execution_count": 21
        },
        {
          "output_type": "display_data",
          "data": {
            "image/png": "[encoded data removed]",
            "text/plain": [
              "<Figure size 432x288 with 1 Axes>"
            ]
          },
          "metadata": {
            "tags": [],
            "needs_background": "light"
          }
        }
      ]
    },
    {
      "cell_type": "markdown",
      "metadata": {
        "id": "pqyTLXZ8c3xF"
      },
      "source": [
        "> Our histogram is left skewed, most of the houses were built between the years of 1950 to around 2015."
      ]
    },
    {
      "cell_type": "markdown",
      "metadata": {
        "id": "adC8PgVxGQjr"
      },
      "source": [
        "### c) Summary Statistics"
      ]
    },
    {
      "cell_type": "code",
      "metadata": {
        "colab": {
          "base_uri": "https://localhost:8080/",
          "height": 317
        },
        "id": "4eqG-tyz8RHZ",
        "outputId": "29eae134-f616-4652-b8f1-2682430aa0f5"
      },
      "source": [
        "house_price.describe(include= 'all')"
      ],
      "execution_count": 22,
      "outputs": [
        {
          "output_type": "execute_result",
          "data": {
            "text/html": [
              "<div>\n",
              "<style scoped>\n",
              "    .dataframe tbody tr th:only-of-type {\n",
              "        vertical-align: middle;\n",
              "    }\n",
              "\n",
              "    .dataframe tbody tr th {\n",
              "        vertical-align: top;\n",
              "    }\n",
              "\n",
              "    .dataframe thead th {\n",
              "        text-align: right;\n",
              "    }\n",
              "</style>\n",
              "<table border=\"1\" class=\"dataframe\">\n",
              "  <thead>\n",
              "    <tr style=\"text-align: right;\">\n",
              "      <th></th>\n",
              "      <th>price</th>\n",
              "      <th>bedrooms</th>\n",
              "      <th>bathrooms</th>\n",
              "      <th>sqft_living</th>\n",
              "      <th>sqft_lot</th>\n",
              "      <th>floors</th>\n",
              "      <th>waterfront</th>\n",
              "      <th>view</th>\n",
              "      <th>condition</th>\n",
              "      <th>grade</th>\n",
              "      <th>sqft_above</th>\n",
              "      <th>sqft_basement</th>\n",
              "      <th>yr_built</th>\n",
              "      <th>yr_renovated</th>\n",
              "      <th>zipcode</th>\n",
              "      <th>sqft_living15</th>\n",
              "      <th>sqft_lot15</th>\n",
              "    </tr>\n",
              "  </thead>\n",
              "  <tbody>\n",
              "    <tr>\n",
              "      <th>count</th>\n",
              "      <td>2.161300e+04</td>\n",
              "      <td>21613.000000</td>\n",
              "      <td>21613.000000</td>\n",
              "      <td>21613.000000</td>\n",
              "      <td>2.161300e+04</td>\n",
              "      <td>21613.000000</td>\n",
              "      <td>21613.000000</td>\n",
              "      <td>21613.000000</td>\n",
              "      <td>21613.000000</td>\n",
              "      <td>21613.000000</td>\n",
              "      <td>21613.000000</td>\n",
              "      <td>21613.000000</td>\n",
              "      <td>21613.000000</td>\n",
              "      <td>21613.000000</td>\n",
              "      <td>21613.000000</td>\n",
              "      <td>21613.000000</td>\n",
              "      <td>21613.000000</td>\n",
              "    </tr>\n",
              "    <tr>\n",
              "      <th>mean</th>\n",
              "      <td>5.401822e+05</td>\n",
              "      <td>3.370842</td>\n",
              "      <td>2.114757</td>\n",
              "      <td>2079.899736</td>\n",
              "      <td>1.510697e+04</td>\n",
              "      <td>1.494309</td>\n",
              "      <td>0.007542</td>\n",
              "      <td>0.234303</td>\n",
              "      <td>3.409430</td>\n",
              "      <td>7.656873</td>\n",
              "      <td>1788.390691</td>\n",
              "      <td>291.509045</td>\n",
              "      <td>1971.005136</td>\n",
              "      <td>84.402258</td>\n",
              "      <td>98077.939805</td>\n",
              "      <td>1986.552492</td>\n",
              "      <td>12768.455652</td>\n",
              "    </tr>\n",
              "    <tr>\n",
              "      <th>std</th>\n",
              "      <td>3.673622e+05</td>\n",
              "      <td>0.930062</td>\n",
              "      <td>0.770163</td>\n",
              "      <td>918.440897</td>\n",
              "      <td>4.142051e+04</td>\n",
              "      <td>0.539989</td>\n",
              "      <td>0.086517</td>\n",
              "      <td>0.766318</td>\n",
              "      <td>0.650743</td>\n",
              "      <td>1.175459</td>\n",
              "      <td>828.090978</td>\n",
              "      <td>442.575043</td>\n",
              "      <td>29.373411</td>\n",
              "      <td>401.679240</td>\n",
              "      <td>53.505026</td>\n",
              "      <td>685.391304</td>\n",
              "      <td>27304.179631</td>\n",
              "    </tr>\n",
              "    <tr>\n",
              "      <th>min</th>\n",
              "      <td>7.500000e+04</td>\n",
              "      <td>0.000000</td>\n",
              "      <td>0.000000</td>\n",
              "      <td>290.000000</td>\n",
              "      <td>5.200000e+02</td>\n",
              "      <td>1.000000</td>\n",
              "      <td>0.000000</td>\n",
              "      <td>0.000000</td>\n",
              "      <td>1.000000</td>\n",
              "      <td>1.000000</td>\n",
              "      <td>290.000000</td>\n",
              "      <td>0.000000</td>\n",
              "      <td>1900.000000</td>\n",
              "      <td>0.000000</td>\n",
              "      <td>98001.000000</td>\n",
              "      <td>399.000000</td>\n",
              "      <td>651.000000</td>\n",
              "    </tr>\n",
              "    <tr>\n",
              "      <th>25%</th>\n",
              "      <td>3.219500e+05</td>\n",
              "      <td>3.000000</td>\n",
              "      <td>1.750000</td>\n",
              "      <td>1427.000000</td>\n",
              "      <td>5.040000e+03</td>\n",
              "      <td>1.000000</td>\n",
              "      <td>0.000000</td>\n",
              "      <td>0.000000</td>\n",
              "      <td>3.000000</td>\n",
              "      <td>7.000000</td>\n",
              "      <td>1190.000000</td>\n",
              "      <td>0.000000</td>\n",
              "      <td>1951.000000</td>\n",
              "      <td>0.000000</td>\n",
              "      <td>98033.000000</td>\n",
              "      <td>1490.000000</td>\n",
              "      <td>5100.000000</td>\n",
              "    </tr>\n",
              "    <tr>\n",
              "      <th>50%</th>\n",
              "      <td>4.500000e+05</td>\n",
              "      <td>3.000000</td>\n",
              "      <td>2.250000</td>\n",
              "      <td>1910.000000</td>\n",
              "      <td>7.618000e+03</td>\n",
              "      <td>1.500000</td>\n",
              "      <td>0.000000</td>\n",
              "      <td>0.000000</td>\n",
              "      <td>3.000000</td>\n",
              "      <td>7.000000</td>\n",
              "      <td>1560.000000</td>\n",
              "      <td>0.000000</td>\n",
              "      <td>1975.000000</td>\n",
              "      <td>0.000000</td>\n",
              "      <td>98065.000000</td>\n",
              "      <td>1840.000000</td>\n",
              "      <td>7620.000000</td>\n",
              "    </tr>\n",
              "    <tr>\n",
              "      <th>75%</th>\n",
              "      <td>6.450000e+05</td>\n",
              "      <td>4.000000</td>\n",
              "      <td>2.500000</td>\n",
              "      <td>2550.000000</td>\n",
              "      <td>1.068800e+04</td>\n",
              "      <td>2.000000</td>\n",
              "      <td>0.000000</td>\n",
              "      <td>0.000000</td>\n",
              "      <td>4.000000</td>\n",
              "      <td>8.000000</td>\n",
              "      <td>2210.000000</td>\n",
              "      <td>560.000000</td>\n",
              "      <td>1997.000000</td>\n",
              "      <td>0.000000</td>\n",
              "      <td>98118.000000</td>\n",
              "      <td>2360.000000</td>\n",
              "      <td>10083.000000</td>\n",
              "    </tr>\n",
              "    <tr>\n",
              "      <th>max</th>\n",
              "      <td>7.700000e+06</td>\n",
              "      <td>33.000000</td>\n",
              "      <td>8.000000</td>\n",
              "      <td>13540.000000</td>\n",
              "      <td>1.651359e+06</td>\n",
              "      <td>3.500000</td>\n",
              "      <td>1.000000</td>\n",
              "      <td>4.000000</td>\n",
              "      <td>5.000000</td>\n",
              "      <td>13.000000</td>\n",
              "      <td>9410.000000</td>\n",
              "      <td>4820.000000</td>\n",
              "      <td>2015.000000</td>\n",
              "      <td>2015.000000</td>\n",
              "      <td>98199.000000</td>\n",
              "      <td>6210.000000</td>\n",
              "      <td>871200.000000</td>\n",
              "    </tr>\n",
              "  </tbody>\n",
              "</table>\n",
              "</div>"
            ],
            "text/plain": [
              "              price      bedrooms  ...  sqft_living15     sqft_lot15\n",
              "count  2.161300e+04  21613.000000  ...   21613.000000   21613.000000\n",
              "mean   5.401822e+05      3.370842  ...    1986.552492   12768.455652\n",
              "std    3.673622e+05      0.930062  ...     685.391304   27304.179631\n",
              "min    7.500000e+04      0.000000  ...     399.000000     651.000000\n",
              "25%    3.219500e+05      3.000000  ...    1490.000000    5100.000000\n",
              "50%    4.500000e+05      3.000000  ...    1840.000000    7620.000000\n",
              "75%    6.450000e+05      4.000000  ...    2360.000000   10083.000000\n",
              "max    7.700000e+06     33.000000  ...    6210.000000  871200.000000\n",
              "\n",
              "[8 rows x 17 columns]"
            ]
          },
          "metadata": {
            "tags": []
          },
          "execution_count": 22
        }
      ]
    },
    {
      "cell_type": "markdown",
      "metadata": {
        "id": "VAtoq3NsdVAY"
      },
      "source": [
        "> Based on our summary statistics, the mean price of a house cost 5.401822e+05, most houses are of 3 bedrooms and 2 bathrooms. The sqft for living room are approximately 2080fts."
      ]
    },
    {
      "cell_type": "markdown",
      "metadata": {
        "id": "Gb5ii6u6RxLz"
      },
      "source": [
        "## Bivariate Analysis"
      ]
    },
    {
      "cell_type": "code",
      "metadata": {
        "colab": {
          "base_uri": "https://localhost:8080/",
          "height": 577
        },
        "id": "zibBg-0wR1bS",
        "outputId": "9fadd636-df33-4d41-b4d8-649ccd3e437e"
      },
      "source": [
        "# Calculating the pearson coefficient correlation\r\n",
        "plt.figure(figsize = (20,10))\r\n",
        "sns.heatmap(house_price.corr(),annot=False)\r\n",
        "plt.title('A Heatmap of Pearson Correlation in our Dataset', color='red')\r\n",
        "plt.show()"
      ],
      "execution_count": 23,
      "outputs": [
        {
          "output_type": "display_data",
          "data": {
            "image/png": "[encoded data removed]",
            "text/plain": [
              "<Figure size 1440x720 with 2 Axes>"
            ]
          },
          "metadata": {
            "tags": [],
            "needs_background": "light"
          }
        }
      ]
    },
    {
      "cell_type": "markdown",
      "metadata": {
        "id": "9ZXrPMbLSxON"
      },
      "source": [
        "> From the piarson correlation, the atributes with high correlation were price and sqft living15, price and sqrft lot15."
      ]
    },
    {
      "cell_type": "code",
      "metadata": {
        "colab": {
          "base_uri": "https://localhost:8080/"
        },
        "id": "YaEXtg3ZkIkQ",
        "outputId": "0c0ddf20-9e1c-4282-a7ff-f88a575da8d6"
      },
      "source": [
        "# finding the skewness of our variables\r\n",
        "house_price.skew()\r\n",
        "\r\n",
        "# Most of our varaibles are positively skewed with only year of built negatively skewed."
      ],
      "execution_count": 24,
      "outputs": [
        {
          "output_type": "execute_result",
          "data": {
            "text/plain": [
              "price             4.021716\n",
              "bedrooms          1.974300\n",
              "bathrooms         0.511108\n",
              "sqft_living       1.471555\n",
              "sqft_lot         13.060019\n",
              "floors            0.616177\n",
              "waterfront       11.385108\n",
              "view              3.395750\n",
              "condition         1.032805\n",
              "grade             0.771103\n",
              "sqft_above        1.446664\n",
              "sqft_basement     1.577965\n",
              "yr_built         -0.469805\n",
              "yr_renovated      4.549493\n",
              "zipcode           0.405661\n",
              "sqft_living15     1.108181\n",
              "sqft_lot15        9.506743\n",
              "dtype: float64"
            ]
          },
          "metadata": {
            "tags": []
          },
          "execution_count": 24
        }
      ]
    },
    {
      "cell_type": "code",
      "metadata": {
        "colab": {
          "base_uri": "https://localhost:8080/"
        },
        "id": "bg12XT6bk3ie",
        "outputId": "c9bf2e5c-0fe4-4d8d-c606-83b83e88ecbd"
      },
      "source": [
        "# finding the kurtosis\r\n",
        "house_price.kurt()\r\n",
        "\r\n",
        "# most of our variables have positive kurtosis"
      ],
      "execution_count": 25,
      "outputs": [
        {
          "output_type": "execute_result",
          "data": {
            "text/plain": [
              "price             34.522444\n",
              "bedrooms          49.063653\n",
              "bathrooms          1.279902\n",
              "sqft_living        5.243093\n",
              "sqft_lot         285.077820\n",
              "floors            -0.484723\n",
              "waterfront       127.632494\n",
              "view              10.893022\n",
              "condition          0.525764\n",
              "grade              1.190932\n",
              "sqft_above         3.402304\n",
              "sqft_basement      2.715574\n",
              "yr_built          -0.657408\n",
              "yr_renovated      18.701152\n",
              "zipcode           -0.853479\n",
              "sqft_living15      1.597096\n",
              "sqft_lot15       150.763110\n",
              "dtype: float64"
            ]
          },
          "metadata": {
            "tags": []
          },
          "execution_count": 25
        }
      ]
    },
    {
      "cell_type": "markdown",
      "metadata": {
        "id": "yeZ34iqvVVXR"
      },
      "source": [
        "## Multivariate Analysis"
      ]
    },
    {
      "cell_type": "markdown",
      "metadata": {
        "id": "ufHa0MysVZ_4"
      },
      "source": [
        "### Principal Component Analysis"
      ]
    },
    {
      "cell_type": "code",
      "metadata": {
        "id": "9Axo1azjWH6U"
      },
      "source": [
        "# working for principal component analysis\r\n",
        "# defining our function.\r\n",
        "\r\n",
        "house_price_pca = house_price.copy(deep=True)"
      ],
      "execution_count": 142,
      "outputs": []
    },
    {
      "cell_type": "code",
      "metadata": {
        "id": "Kq5p2001VI75"
      },
      "source": [
        "# defining our x and y by sellecting columns\r\n",
        "x = house_price_pca.drop(['price'], axis= 1) # features\r\n",
        "y = house_price_pca['price'] #target variable\r\n",
        "\r\n",
        "# Splitting the data into train and test sets\r\n",
        "\r\n",
        "from sklearn.model_selection import  train_test_split\r\n",
        "\r\n",
        "x_train, x_test, y_train, y_test = train_test_split(x,y, test_size=0.2, random_state=0)"
      ],
      "execution_count": 143,
      "outputs": []
    },
    {
      "cell_type": "code",
      "metadata": {
        "id": "cYwZa3eFWqev"
      },
      "source": [
        "# Performing standard scalar normalization to normalize our feature set.\r\n",
        "\r\n",
        "from sklearn.preprocessing import StandardScaler\r\n",
        "\r\n",
        "sc = StandardScaler()\r\n",
        "x_train =sc.fit_transform(x_train)\r\n",
        "x_test = sc.transform (x_test)"
      ],
      "execution_count": 144,
      "outputs": []
    },
    {
      "cell_type": "code",
      "metadata": {
        "id": "lWdXmy_hWxXJ"
      },
      "source": [
        "# Applying PCA\r\n",
        "# We did not specify the number of components in the constructor. \r\n",
        "# Hence, the features in Financial_encoding set will be returned for both the training and test sets.\r\n",
        "\r\n",
        "from sklearn.decomposition import PCA\r\n",
        "\r\n",
        "pca = PCA()\r\n",
        "X_train = pca.fit_transform(x_train)\r\n",
        "X_test = pca.transform(x_test)"
      ],
      "execution_count": 145,
      "outputs": []
    },
    {
      "cell_type": "code",
      "metadata": {
        "colab": {
          "base_uri": "https://localhost:8080/"
        },
        "id": "Lfia6uixWxT0",
        "outputId": "550207a8-85f0-4345-baee-59f2c9a7589d"
      },
      "source": [
        "# Explained Variance Ratio\r\n",
        "\r\n",
        "explained_variance = pca.explained_variance_ratio_\r\n",
        "explained_variance"
      ],
      "execution_count": 146,
      "outputs": [
        {
          "output_type": "execute_result",
          "data": {
            "text/plain": [
              "array([3.16970360e-01, 1.25211337e-01, 1.08122875e-01, 8.33301252e-02,\n",
              "       6.56895365e-02, 5.60910049e-02, 5.22830640e-02, 4.26392467e-02,\n",
              "       3.73992167e-02, 3.11855253e-02, 2.08035772e-02, 1.69761404e-02,\n",
              "       1.60528589e-02, 1.47180849e-02, 1.25270476e-02, 2.61636716e-33])"
            ]
          },
          "metadata": {
            "tags": []
          },
          "execution_count": 146
        }
      ]
    },
    {
      "cell_type": "markdown",
      "metadata": {
        "id": "6Gnm4na70m_e"
      },
      "source": [
        "## Implementing the solution"
      ]
    },
    {
      "cell_type": "markdown",
      "metadata": {
        "id": "BiZUG9AB1j7C"
      },
      "source": [
        "##### Checking for multicolinearity"
      ]
    },
    {
      "cell_type": "code",
      "metadata": {
        "colab": {
          "base_uri": "https://localhost:8080/",
          "height": 596
        },
        "id": "Uml9g_8n0tEm",
        "outputId": "55e2039e-75fe-4000-a36d-982566b6ea87"
      },
      "source": [
        "# finding the correlations between the variables\r\n",
        "\r\n",
        "corr = house_price[['price',\t'bedrooms',\t'bathrooms',\t'sqft_living',\t'sqft_lot',\t'floors',\t'waterfront',\t'view',\r\n",
        "                    'condition',\t'grade',\t'sqft_above',\t'sqft_basement',\t'yr_built',\t'yr_renovated',\t'zipcode',\t'sqft_living15',\t'sqft_lot15']].corr()\r\n",
        "corr"
      ],
      "execution_count": 147,
      "outputs": [
        {
          "output_type": "execute_result",
          "data": {
            "text/html": [
              "<div>\n",
              "<style scoped>\n",
              "    .dataframe tbody tr th:only-of-type {\n",
              "        vertical-align: middle;\n",
              "    }\n",
              "\n",
              "    .dataframe tbody tr th {\n",
              "        vertical-align: top;\n",
              "    }\n",
              "\n",
              "    .dataframe thead th {\n",
              "        text-align: right;\n",
              "    }\n",
              "</style>\n",
              "<table border=\"1\" class=\"dataframe\">\n",
              "  <thead>\n",
              "    <tr style=\"text-align: right;\">\n",
              "      <th></th>\n",
              "      <th>price</th>\n",
              "      <th>bedrooms</th>\n",
              "      <th>bathrooms</th>\n",
              "      <th>sqft_living</th>\n",
              "      <th>sqft_lot</th>\n",
              "      <th>floors</th>\n",
              "      <th>waterfront</th>\n",
              "      <th>view</th>\n",
              "      <th>condition</th>\n",
              "      <th>grade</th>\n",
              "      <th>sqft_above</th>\n",
              "      <th>sqft_basement</th>\n",
              "      <th>yr_built</th>\n",
              "      <th>yr_renovated</th>\n",
              "      <th>zipcode</th>\n",
              "      <th>sqft_living15</th>\n",
              "      <th>sqft_lot15</th>\n",
              "    </tr>\n",
              "  </thead>\n",
              "  <tbody>\n",
              "    <tr>\n",
              "      <th>price</th>\n",
              "      <td>1.000000</td>\n",
              "      <td>0.308338</td>\n",
              "      <td>0.525134</td>\n",
              "      <td>0.702044</td>\n",
              "      <td>0.089655</td>\n",
              "      <td>0.256786</td>\n",
              "      <td>0.266331</td>\n",
              "      <td>0.397346</td>\n",
              "      <td>0.036392</td>\n",
              "      <td>0.667463</td>\n",
              "      <td>0.605566</td>\n",
              "      <td>0.323837</td>\n",
              "      <td>0.053982</td>\n",
              "      <td>0.126442</td>\n",
              "      <td>-0.053168</td>\n",
              "      <td>0.585374</td>\n",
              "      <td>0.082456</td>\n",
              "    </tr>\n",
              "    <tr>\n",
              "      <th>bedrooms</th>\n",
              "      <td>0.308338</td>\n",
              "      <td>1.000000</td>\n",
              "      <td>0.515884</td>\n",
              "      <td>0.576671</td>\n",
              "      <td>0.031703</td>\n",
              "      <td>0.175429</td>\n",
              "      <td>-0.006582</td>\n",
              "      <td>0.079532</td>\n",
              "      <td>0.028472</td>\n",
              "      <td>0.356967</td>\n",
              "      <td>0.477600</td>\n",
              "      <td>0.303093</td>\n",
              "      <td>0.154178</td>\n",
              "      <td>0.018841</td>\n",
              "      <td>-0.152668</td>\n",
              "      <td>0.391638</td>\n",
              "      <td>0.029244</td>\n",
              "    </tr>\n",
              "    <tr>\n",
              "      <th>bathrooms</th>\n",
              "      <td>0.525134</td>\n",
              "      <td>0.515884</td>\n",
              "      <td>1.000000</td>\n",
              "      <td>0.754665</td>\n",
              "      <td>0.087740</td>\n",
              "      <td>0.500653</td>\n",
              "      <td>0.063744</td>\n",
              "      <td>0.187737</td>\n",
              "      <td>-0.124982</td>\n",
              "      <td>0.664983</td>\n",
              "      <td>0.685342</td>\n",
              "      <td>0.283770</td>\n",
              "      <td>0.506019</td>\n",
              "      <td>0.050739</td>\n",
              "      <td>-0.203866</td>\n",
              "      <td>0.568634</td>\n",
              "      <td>0.087175</td>\n",
              "    </tr>\n",
              "    <tr>\n",
              "      <th>sqft_living</th>\n",
              "      <td>0.702044</td>\n",
              "      <td>0.576671</td>\n",
              "      <td>0.754665</td>\n",
              "      <td>1.000000</td>\n",
              "      <td>0.172826</td>\n",
              "      <td>0.353949</td>\n",
              "      <td>0.103818</td>\n",
              "      <td>0.284611</td>\n",
              "      <td>-0.058753</td>\n",
              "      <td>0.762704</td>\n",
              "      <td>0.876597</td>\n",
              "      <td>0.435043</td>\n",
              "      <td>0.318049</td>\n",
              "      <td>0.055363</td>\n",
              "      <td>-0.199430</td>\n",
              "      <td>0.756420</td>\n",
              "      <td>0.183286</td>\n",
              "    </tr>\n",
              "    <tr>\n",
              "      <th>sqft_lot</th>\n",
              "      <td>0.089655</td>\n",
              "      <td>0.031703</td>\n",
              "      <td>0.087740</td>\n",
              "      <td>0.172826</td>\n",
              "      <td>1.000000</td>\n",
              "      <td>-0.005201</td>\n",
              "      <td>0.021604</td>\n",
              "      <td>0.074710</td>\n",
              "      <td>-0.008958</td>\n",
              "      <td>0.113621</td>\n",
              "      <td>0.183512</td>\n",
              "      <td>0.015286</td>\n",
              "      <td>0.053080</td>\n",
              "      <td>0.007644</td>\n",
              "      <td>-0.129574</td>\n",
              "      <td>0.144608</td>\n",
              "      <td>0.718557</td>\n",
              "    </tr>\n",
              "    <tr>\n",
              "      <th>floors</th>\n",
              "      <td>0.256786</td>\n",
              "      <td>0.175429</td>\n",
              "      <td>0.500653</td>\n",
              "      <td>0.353949</td>\n",
              "      <td>-0.005201</td>\n",
              "      <td>1.000000</td>\n",
              "      <td>0.023698</td>\n",
              "      <td>0.029444</td>\n",
              "      <td>-0.263768</td>\n",
              "      <td>0.458183</td>\n",
              "      <td>0.523885</td>\n",
              "      <td>-0.245705</td>\n",
              "      <td>0.489319</td>\n",
              "      <td>0.006338</td>\n",
              "      <td>-0.059121</td>\n",
              "      <td>0.279885</td>\n",
              "      <td>-0.011269</td>\n",
              "    </tr>\n",
              "    <tr>\n",
              "      <th>waterfront</th>\n",
              "      <td>0.266331</td>\n",
              "      <td>-0.006582</td>\n",
              "      <td>0.063744</td>\n",
              "      <td>0.103818</td>\n",
              "      <td>0.021604</td>\n",
              "      <td>0.023698</td>\n",
              "      <td>1.000000</td>\n",
              "      <td>0.401857</td>\n",
              "      <td>0.016653</td>\n",
              "      <td>0.082775</td>\n",
              "      <td>0.072075</td>\n",
              "      <td>0.080588</td>\n",
              "      <td>-0.026161</td>\n",
              "      <td>0.092885</td>\n",
              "      <td>0.030285</td>\n",
              "      <td>0.086463</td>\n",
              "      <td>0.030703</td>\n",
              "    </tr>\n",
              "    <tr>\n",
              "      <th>view</th>\n",
              "      <td>0.397346</td>\n",
              "      <td>0.079532</td>\n",
              "      <td>0.187737</td>\n",
              "      <td>0.284611</td>\n",
              "      <td>0.074710</td>\n",
              "      <td>0.029444</td>\n",
              "      <td>0.401857</td>\n",
              "      <td>1.000000</td>\n",
              "      <td>0.045990</td>\n",
              "      <td>0.251321</td>\n",
              "      <td>0.167649</td>\n",
              "      <td>0.276947</td>\n",
              "      <td>-0.053440</td>\n",
              "      <td>0.103917</td>\n",
              "      <td>0.084827</td>\n",
              "      <td>0.280439</td>\n",
              "      <td>0.072575</td>\n",
              "    </tr>\n",
              "    <tr>\n",
              "      <th>condition</th>\n",
              "      <td>0.036392</td>\n",
              "      <td>0.028472</td>\n",
              "      <td>-0.124982</td>\n",
              "      <td>-0.058753</td>\n",
              "      <td>-0.008958</td>\n",
              "      <td>-0.263768</td>\n",
              "      <td>0.016653</td>\n",
              "      <td>0.045990</td>\n",
              "      <td>1.000000</td>\n",
              "      <td>-0.144674</td>\n",
              "      <td>-0.158214</td>\n",
              "      <td>0.174105</td>\n",
              "      <td>-0.361417</td>\n",
              "      <td>-0.060618</td>\n",
              "      <td>0.003026</td>\n",
              "      <td>-0.092824</td>\n",
              "      <td>-0.003406</td>\n",
              "    </tr>\n",
              "    <tr>\n",
              "      <th>grade</th>\n",
              "      <td>0.667463</td>\n",
              "      <td>0.356967</td>\n",
              "      <td>0.664983</td>\n",
              "      <td>0.762704</td>\n",
              "      <td>0.113621</td>\n",
              "      <td>0.458183</td>\n",
              "      <td>0.082775</td>\n",
              "      <td>0.251321</td>\n",
              "      <td>-0.144674</td>\n",
              "      <td>1.000000</td>\n",
              "      <td>0.755923</td>\n",
              "      <td>0.168392</td>\n",
              "      <td>0.446963</td>\n",
              "      <td>0.014414</td>\n",
              "      <td>-0.184862</td>\n",
              "      <td>0.713202</td>\n",
              "      <td>0.119248</td>\n",
              "    </tr>\n",
              "    <tr>\n",
              "      <th>sqft_above</th>\n",
              "      <td>0.605566</td>\n",
              "      <td>0.477600</td>\n",
              "      <td>0.685342</td>\n",
              "      <td>0.876597</td>\n",
              "      <td>0.183512</td>\n",
              "      <td>0.523885</td>\n",
              "      <td>0.072075</td>\n",
              "      <td>0.167649</td>\n",
              "      <td>-0.158214</td>\n",
              "      <td>0.755923</td>\n",
              "      <td>1.000000</td>\n",
              "      <td>-0.051943</td>\n",
              "      <td>0.423898</td>\n",
              "      <td>0.023285</td>\n",
              "      <td>-0.261190</td>\n",
              "      <td>0.731870</td>\n",
              "      <td>0.194050</td>\n",
              "    </tr>\n",
              "    <tr>\n",
              "      <th>sqft_basement</th>\n",
              "      <td>0.323837</td>\n",
              "      <td>0.303093</td>\n",
              "      <td>0.283770</td>\n",
              "      <td>0.435043</td>\n",
              "      <td>0.015286</td>\n",
              "      <td>-0.245705</td>\n",
              "      <td>0.080588</td>\n",
              "      <td>0.276947</td>\n",
              "      <td>0.174105</td>\n",
              "      <td>0.168392</td>\n",
              "      <td>-0.051943</td>\n",
              "      <td>1.000000</td>\n",
              "      <td>-0.133124</td>\n",
              "      <td>0.071323</td>\n",
              "      <td>0.074845</td>\n",
              "      <td>0.200355</td>\n",
              "      <td>0.017276</td>\n",
              "    </tr>\n",
              "    <tr>\n",
              "      <th>yr_built</th>\n",
              "      <td>0.053982</td>\n",
              "      <td>0.154178</td>\n",
              "      <td>0.506019</td>\n",
              "      <td>0.318049</td>\n",
              "      <td>0.053080</td>\n",
              "      <td>0.489319</td>\n",
              "      <td>-0.026161</td>\n",
              "      <td>-0.053440</td>\n",
              "      <td>-0.361417</td>\n",
              "      <td>0.446963</td>\n",
              "      <td>0.423898</td>\n",
              "      <td>-0.133124</td>\n",
              "      <td>1.000000</td>\n",
              "      <td>-0.224874</td>\n",
              "      <td>-0.346869</td>\n",
              "      <td>0.326229</td>\n",
              "      <td>0.070958</td>\n",
              "    </tr>\n",
              "    <tr>\n",
              "      <th>yr_renovated</th>\n",
              "      <td>0.126442</td>\n",
              "      <td>0.018841</td>\n",
              "      <td>0.050739</td>\n",
              "      <td>0.055363</td>\n",
              "      <td>0.007644</td>\n",
              "      <td>0.006338</td>\n",
              "      <td>0.092885</td>\n",
              "      <td>0.103917</td>\n",
              "      <td>-0.060618</td>\n",
              "      <td>0.014414</td>\n",
              "      <td>0.023285</td>\n",
              "      <td>0.071323</td>\n",
              "      <td>-0.224874</td>\n",
              "      <td>1.000000</td>\n",
              "      <td>0.064357</td>\n",
              "      <td>-0.002673</td>\n",
              "      <td>0.007854</td>\n",
              "    </tr>\n",
              "    <tr>\n",
              "      <th>zipcode</th>\n",
              "      <td>-0.053168</td>\n",
              "      <td>-0.152668</td>\n",
              "      <td>-0.203866</td>\n",
              "      <td>-0.199430</td>\n",
              "      <td>-0.129574</td>\n",
              "      <td>-0.059121</td>\n",
              "      <td>0.030285</td>\n",
              "      <td>0.084827</td>\n",
              "      <td>0.003026</td>\n",
              "      <td>-0.184862</td>\n",
              "      <td>-0.261190</td>\n",
              "      <td>0.074845</td>\n",
              "      <td>-0.346869</td>\n",
              "      <td>0.064357</td>\n",
              "      <td>1.000000</td>\n",
              "      <td>-0.279033</td>\n",
              "      <td>-0.147221</td>\n",
              "    </tr>\n",
              "    <tr>\n",
              "      <th>sqft_living15</th>\n",
              "      <td>0.585374</td>\n",
              "      <td>0.391638</td>\n",
              "      <td>0.568634</td>\n",
              "      <td>0.756420</td>\n",
              "      <td>0.144608</td>\n",
              "      <td>0.279885</td>\n",
              "      <td>0.086463</td>\n",
              "      <td>0.280439</td>\n",
              "      <td>-0.092824</td>\n",
              "      <td>0.713202</td>\n",
              "      <td>0.731870</td>\n",
              "      <td>0.200355</td>\n",
              "      <td>0.326229</td>\n",
              "      <td>-0.002673</td>\n",
              "      <td>-0.279033</td>\n",
              "      <td>1.000000</td>\n",
              "      <td>0.183192</td>\n",
              "    </tr>\n",
              "    <tr>\n",
              "      <th>sqft_lot15</th>\n",
              "      <td>0.082456</td>\n",
              "      <td>0.029244</td>\n",
              "      <td>0.087175</td>\n",
              "      <td>0.183286</td>\n",
              "      <td>0.718557</td>\n",
              "      <td>-0.011269</td>\n",
              "      <td>0.030703</td>\n",
              "      <td>0.072575</td>\n",
              "      <td>-0.003406</td>\n",
              "      <td>0.119248</td>\n",
              "      <td>0.194050</td>\n",
              "      <td>0.017276</td>\n",
              "      <td>0.070958</td>\n",
              "      <td>0.007854</td>\n",
              "      <td>-0.147221</td>\n",
              "      <td>0.183192</td>\n",
              "      <td>1.000000</td>\n",
              "    </tr>\n",
              "  </tbody>\n",
              "</table>\n",
              "</div>"
            ],
            "text/plain": [
              "                  price  bedrooms  ...  sqft_living15  sqft_lot15\n",
              "price          1.000000  0.308338  ...       0.585374    0.082456\n",
              "bedrooms       0.308338  1.000000  ...       0.391638    0.029244\n",
              "bathrooms      0.525134  0.515884  ...       0.568634    0.087175\n",
              "sqft_living    0.702044  0.576671  ...       0.756420    0.183286\n",
              "sqft_lot       0.089655  0.031703  ...       0.144608    0.718557\n",
              "floors         0.256786  0.175429  ...       0.279885   -0.011269\n",
              "waterfront     0.266331 -0.006582  ...       0.086463    0.030703\n",
              "view           0.397346  0.079532  ...       0.280439    0.072575\n",
              "condition      0.036392  0.028472  ...      -0.092824   -0.003406\n",
              "grade          0.667463  0.356967  ...       0.713202    0.119248\n",
              "sqft_above     0.605566  0.477600  ...       0.731870    0.194050\n",
              "sqft_basement  0.323837  0.303093  ...       0.200355    0.017276\n",
              "yr_built       0.053982  0.154178  ...       0.326229    0.070958\n",
              "yr_renovated   0.126442  0.018841  ...      -0.002673    0.007854\n",
              "zipcode       -0.053168 -0.152668  ...      -0.279033   -0.147221\n",
              "sqft_living15  0.585374  0.391638  ...       1.000000    0.183192\n",
              "sqft_lot15     0.082456  0.029244  ...       0.183192    1.000000\n",
              "\n",
              "[17 rows x 17 columns]"
            ]
          },
          "metadata": {
            "tags": []
          },
          "execution_count": 147
        }
      ]
    },
    {
      "cell_type": "markdown",
      "metadata": {
        "id": "Lkp-kU3-YVLS"
      },
      "source": [
        "> There is a strong correlation between price and sqrf living, bathroom and living sqrf, price and grade, sqft living  and grade, sqft living and sqft above, sqft above and grade. These factors contribute more to the price of the house. There is a relative positive correlation price and sqft living15, bathroom and year built, grade and bathroom. There is weak positive correlation between price and bathroom, price and sq lot, condition and price, bedroom and floor. There is weak negative correlation between price and zipcode, bedroom and waterfront, condition and floors, condition and sqft lot and condition."
      ]
    },
    {
      "cell_type": "code",
      "metadata": {
        "colab": {
          "base_uri": "https://localhost:8080/",
          "height": 350
        },
        "id": "fIEiNSl_0tAd",
        "outputId": "46ed958e-6775-4388-b346-ad0bbf2963d0"
      },
      "source": [
        "# Checking for independence between features¶\r\n",
        "# \r\n",
        "sns.heatmap(corr.corr())  "
      ],
      "execution_count": 148,
      "outputs": [
        {
          "output_type": "execute_result",
          "data": {
            "text/plain": [
              "<matplotlib.axes._subplots.AxesSubplot at 0x7f4e7c1c13c8>"
            ]
          },
          "metadata": {
            "tags": []
          },
          "execution_count": 148
        },
        {
          "output_type": "display_data",
          "data": {
            "image/png": "[encoded data removed]",
            "text/plain": [
              "<Figure size 432x288 with 2 Axes>"
            ]
          },
          "metadata": {
            "tags": [],
            "needs_background": "light"
          }
        }
      ]
    },
    {
      "cell_type": "markdown",
      "metadata": {
        "id": "hQ5bLHar4kCb"
      },
      "source": [
        "# Regression"
      ]
    },
    {
      "cell_type": "markdown",
      "metadata": {
        "id": "HqVodUJC41QQ"
      },
      "source": [
        "## Multiple Linear Regression"
      ]
    },
    {
      "cell_type": "code",
      "metadata": {
        "colab": {
          "base_uri": "https://localhost:8080/"
        },
        "id": "y2JqaG0ybwvd",
        "outputId": "0af19379-4654-48ad-b171-f0f9392f6b39"
      },
      "source": [
        "# Training the Algorithm\r\n",
        "# ---\r\n",
        "# To train the algorithm we execute the same code as before, using the fit() method of the LinearRegression class\r\n",
        "# ---\r\n",
        "# \r\n",
        "from sklearn.linear_model import LinearRegression\r\n",
        "\r\n",
        "regressor = LinearRegression()\r\n",
        "regressor.fit(x_train, y_train)"
      ],
      "execution_count": 149,
      "outputs": [
        {
          "output_type": "execute_result",
          "data": {
            "text/plain": [
              "LinearRegression(copy_X=True, fit_intercept=True, n_jobs=None, normalize=False)"
            ]
          },
          "metadata": {
            "tags": []
          },
          "execution_count": 149
        }
      ]
    },
    {
      "cell_type": "code",
      "metadata": {
        "colab": {
          "base_uri": "https://localhost:8080/",
          "height": 545
        },
        "id": "ExX2oOZ7bwij",
        "outputId": "bbf49cc8-8488-45a4-e57d-82aa13ca7c17"
      },
      "source": [
        "# finding the most optimal coefficients for all the attributes. \r\n",
        "# To see what coefficients our regression model has chosen, execute the following\r\n",
        "# \r\n",
        "coeff_house_price = pd.DataFrame(regressor.coef_, x.columns, columns=['Coefficient'])\r\n",
        "coeff_house_price"
      ],
      "execution_count": 150,
      "outputs": [
        {
          "output_type": "execute_result",
          "data": {
            "text/html": [
              "<div>\n",
              "<style scoped>\n",
              "    .dataframe tbody tr th:only-of-type {\n",
              "        vertical-align: middle;\n",
              "    }\n",
              "\n",
              "    .dataframe tbody tr th {\n",
              "        vertical-align: top;\n",
              "    }\n",
              "\n",
              "    .dataframe thead th {\n",
              "        text-align: right;\n",
              "    }\n",
              "</style>\n",
              "<table border=\"1\" class=\"dataframe\">\n",
              "  <thead>\n",
              "    <tr style=\"text-align: right;\">\n",
              "      <th></th>\n",
              "      <th>Coefficient</th>\n",
              "    </tr>\n",
              "  </thead>\n",
              "  <tbody>\n",
              "    <tr>\n",
              "      <th>bedrooms</th>\n",
              "      <td>-35597.885251</td>\n",
              "    </tr>\n",
              "    <tr>\n",
              "      <th>bathrooms</th>\n",
              "      <td>33943.548837</td>\n",
              "    </tr>\n",
              "    <tr>\n",
              "      <th>sqft_living</th>\n",
              "      <td>78079.388685</td>\n",
              "    </tr>\n",
              "    <tr>\n",
              "      <th>sqft_lot</th>\n",
              "      <td>1156.643624</td>\n",
              "    </tr>\n",
              "    <tr>\n",
              "      <th>floors</th>\n",
              "      <td>15429.629563</td>\n",
              "    </tr>\n",
              "    <tr>\n",
              "      <th>waterfront</th>\n",
              "      <td>54123.860280</td>\n",
              "    </tr>\n",
              "    <tr>\n",
              "      <th>view</th>\n",
              "      <td>33337.306612</td>\n",
              "    </tr>\n",
              "    <tr>\n",
              "      <th>condition</th>\n",
              "      <td>12832.334546</td>\n",
              "    </tr>\n",
              "    <tr>\n",
              "      <th>grade</th>\n",
              "      <td>138356.950813</td>\n",
              "    </tr>\n",
              "    <tr>\n",
              "      <th>sqft_above</th>\n",
              "      <td>66460.846999</td>\n",
              "    </tr>\n",
              "    <tr>\n",
              "      <th>sqft_basement</th>\n",
              "      <td>37865.493267</td>\n",
              "    </tr>\n",
              "    <tr>\n",
              "      <th>yr_built</th>\n",
              "      <td>-104742.288737</td>\n",
              "    </tr>\n",
              "    <tr>\n",
              "      <th>yr_renovated</th>\n",
              "      <td>4221.285276</td>\n",
              "    </tr>\n",
              "    <tr>\n",
              "      <th>zipcode</th>\n",
              "      <td>1728.576911</td>\n",
              "    </tr>\n",
              "    <tr>\n",
              "      <th>sqft_living15</th>\n",
              "      <td>18605.063536</td>\n",
              "    </tr>\n",
              "    <tr>\n",
              "      <th>sqft_lot15</th>\n",
              "      <td>-16844.147865</td>\n",
              "    </tr>\n",
              "  </tbody>\n",
              "</table>\n",
              "</div>"
            ],
            "text/plain": [
              "                 Coefficient\n",
              "bedrooms       -35597.885251\n",
              "bathrooms       33943.548837\n",
              "sqft_living     78079.388685\n",
              "sqft_lot         1156.643624\n",
              "floors          15429.629563\n",
              "waterfront      54123.860280\n",
              "view            33337.306612\n",
              "condition       12832.334546\n",
              "grade          138356.950813\n",
              "sqft_above      66460.846999\n",
              "sqft_basement   37865.493267\n",
              "yr_built      -104742.288737\n",
              "yr_renovated     4221.285276\n",
              "zipcode          1728.576911\n",
              "sqft_living15   18605.063536\n",
              "sqft_lot15     -16844.147865"
            ]
          },
          "metadata": {
            "tags": []
          },
          "execution_count": 150
        }
      ]
    },
    {
      "cell_type": "markdown",
      "metadata": {
        "id": "E8cvHpUvTwLv"
      },
      "source": [
        "> All the variables contribute positively to the our y predictor except, sqft lot15, year when the house was built and bedrooms. Whenever we increase these variables they reduce the price of the house. The year the house was built has the highest nnegative effect to the price of the house. The older the house the lower the price. The grade of the house, sqft loving15, sqft above, waterfront, view."
      ]
    },
    {
      "cell_type": "code",
      "metadata": {
        "colab": {
          "base_uri": "https://localhost:8080/",
          "height": 419
        },
        "id": "jH2ZMUQybweU",
        "outputId": "4c81cd62-2823-47d6-e862-05b777e356d3"
      },
      "source": [
        "# Making Predictions\r\n",
        "# ---\r\n",
        "# To make pre-dictions on the test data, execute the following\r\n",
        "# ---\r\n",
        "# \r\n",
        "y_pred = regressor.predict(x_test)\r\n",
        "\r\n",
        "# To compare the actual output values for X_test with the predicted values\r\n",
        "# \r\n",
        "house_price = pd.DataFrame({'Actual': y_test, 'Predicted': y_pred})\r\n",
        "house_price"
      ],
      "execution_count": 151,
      "outputs": [
        {
          "output_type": "execute_result",
          "data": {
            "text/html": [
              "<div>\n",
              "<style scoped>\n",
              "    .dataframe tbody tr th:only-of-type {\n",
              "        vertical-align: middle;\n",
              "    }\n",
              "\n",
              "    .dataframe tbody tr th {\n",
              "        vertical-align: top;\n",
              "    }\n",
              "\n",
              "    .dataframe thead th {\n",
              "        text-align: right;\n",
              "    }\n",
              "</style>\n",
              "<table border=\"1\" class=\"dataframe\">\n",
              "  <thead>\n",
              "    <tr style=\"text-align: right;\">\n",
              "      <th></th>\n",
              "      <th>Actual</th>\n",
              "      <th>Predicted</th>\n",
              "    </tr>\n",
              "  </thead>\n",
              "  <tbody>\n",
              "    <tr>\n",
              "      <th>17384</th>\n",
              "      <td>297000.0</td>\n",
              "      <td>2.927847e+05</td>\n",
              "    </tr>\n",
              "    <tr>\n",
              "      <th>722</th>\n",
              "      <td>1580000.0</td>\n",
              "      <td>1.495014e+06</td>\n",
              "    </tr>\n",
              "    <tr>\n",
              "      <th>2680</th>\n",
              "      <td>562100.0</td>\n",
              "      <td>5.059952e+05</td>\n",
              "    </tr>\n",
              "    <tr>\n",
              "      <th>18754</th>\n",
              "      <td>631500.0</td>\n",
              "      <td>5.630654e+05</td>\n",
              "    </tr>\n",
              "    <tr>\n",
              "      <th>14554</th>\n",
              "      <td>780000.0</td>\n",
              "      <td>8.519750e+05</td>\n",
              "    </tr>\n",
              "    <tr>\n",
              "      <th>...</th>\n",
              "      <td>...</td>\n",
              "      <td>...</td>\n",
              "    </tr>\n",
              "    <tr>\n",
              "      <th>5427</th>\n",
              "      <td>844000.0</td>\n",
              "      <td>9.392666e+05</td>\n",
              "    </tr>\n",
              "    <tr>\n",
              "      <th>16547</th>\n",
              "      <td>335500.0</td>\n",
              "      <td>2.862744e+05</td>\n",
              "    </tr>\n",
              "    <tr>\n",
              "      <th>4585</th>\n",
              "      <td>369950.0</td>\n",
              "      <td>2.888997e+05</td>\n",
              "    </tr>\n",
              "    <tr>\n",
              "      <th>17762</th>\n",
              "      <td>300000.0</td>\n",
              "      <td>2.306172e+05</td>\n",
              "    </tr>\n",
              "    <tr>\n",
              "      <th>16323</th>\n",
              "      <td>575950.0</td>\n",
              "      <td>3.772361e+05</td>\n",
              "    </tr>\n",
              "  </tbody>\n",
              "</table>\n",
              "<p>4323 rows × 2 columns</p>\n",
              "</div>"
            ],
            "text/plain": [
              "          Actual     Predicted\n",
              "17384   297000.0  2.927847e+05\n",
              "722    1580000.0  1.495014e+06\n",
              "2680    562100.0  5.059952e+05\n",
              "18754   631500.0  5.630654e+05\n",
              "14554   780000.0  8.519750e+05\n",
              "...          ...           ...\n",
              "5427    844000.0  9.392666e+05\n",
              "16547   335500.0  2.862744e+05\n",
              "4585    369950.0  2.888997e+05\n",
              "17762   300000.0  2.306172e+05\n",
              "16323   575950.0  3.772361e+05\n",
              "\n",
              "[4323 rows x 2 columns]"
            ]
          },
          "metadata": {
            "tags": []
          },
          "execution_count": 151
        }
      ]
    },
    {
      "cell_type": "markdown",
      "metadata": {
        "id": "KL9dE5uhWlGg"
      },
      "source": [
        "> There is a closer relationship between the actual and predicted value."
      ]
    },
    {
      "cell_type": "code",
      "metadata": {
        "colab": {
          "base_uri": "https://localhost:8080/"
        },
        "id": "e-2E7caWbwbm",
        "outputId": "96070ab7-ee94-4df6-dd71-02f40fc04dbd"
      },
      "source": [
        "# Evaluating the Algorithm\r\n",
        "# ---\r\n",
        "# \r\n",
        "from sklearn import metrics\r\n",
        "print('Mean Absolute Error:', metrics.mean_absolute_error(y_test, y_pred))\r\n",
        "print('Mean Squared Error:', metrics.mean_squared_error(y_test, y_pred))\r\n",
        "print('Root Mean Squared Error:', np.sqrt(metrics.mean_squared_error(y_test, y_pred)))"
      ],
      "execution_count": 152,
      "outputs": [
        {
          "output_type": "stream",
          "text": [
            "Mean Absolute Error: 135954.72612100662\n",
            "Mean Squared Error: 42222885491.379036\n",
            "Root Mean Squared Error: 205482.0807062724\n"
          ],
          "name": "stdout"
        }
      ]
    },
    {
      "cell_type": "markdown",
      "metadata": {
        "id": "AS9DOwYOexda"
      },
      "source": [
        "##### Setting our linear regression as our baseline"
      ]
    },
    {
      "cell_type": "code",
      "metadata": {
        "colab": {
          "base_uri": "https://localhost:8080/"
        },
        "id": "5M1IjJIFbwZo",
        "outputId": "678e8f2f-6ebf-4832-b77b-e613ada9ccaa"
      },
      "source": [
        "# Creating our linear regression model for the purpose of comparison\r\n",
        "# \r\n",
        "from sklearn.metrics import mean_squared_error\r\n",
        "regression=LinearRegression()\r\n",
        "regression.fit(x,y)\r\n",
        "first_model=(mean_squared_error(y_true=y,y_pred=regression.predict(x)))\r\n",
        "print(first_model)"
      ],
      "execution_count": 153,
      "outputs": [
        {
          "output_type": "stream",
          "text": [
            "46722005847.31689\n"
          ],
          "name": "stdout"
        }
      ]
    },
    {
      "cell_type": "markdown",
      "metadata": {
        "id": "wPJrqImuXrG4"
      },
      "source": [
        "> Our linear regression mean squire error is 46722005847.31689, which will be our baseline to compare with other models to determine the best."
      ]
    },
    {
      "cell_type": "code",
      "metadata": {
        "colab": {
          "base_uri": "https://localhost:8080/"
        },
        "id": "dt_hqb7PeHtK",
        "outputId": "2dc59fa5-2636-48c3-f785-380e764ab6f4"
      },
      "source": [
        "# Below are the coefficients of this first model. We use a for loop to go through \r\n",
        "# the model and the zip function to combine the two columns.\r\n",
        "# \r\n",
        "coef_dict_baseline = {}\r\n",
        "for coef, feat in zip(regression.coef_,x.columns):\r\n",
        "    coef_dict_baseline[feat] = coef\r\n",
        "coef_dict_baseline"
      ],
      "execution_count": 154,
      "outputs": [
        {
          "output_type": "execute_result",
          "data": {
            "text/plain": [
              "{'bathrooms': 45764.913908867326,\n",
              " 'bedrooms': -39363.79357638453,\n",
              " 'condition': 19459.180084506716,\n",
              " 'floors': 27029.54719977978,\n",
              " 'grade': 119860.09435179096,\n",
              " 'sqft_above': 51.49414086195793,\n",
              " 'sqft_basement': 57.867109564138445,\n",
              " 'sqft_living': 109.36125070964226,\n",
              " 'sqft_living15': 24.725000960362195,\n",
              " 'sqft_lot': -0.00227899121819064,\n",
              " 'sqft_lot15': -0.5510105315152032,\n",
              " 'view': 43351.17650044986,\n",
              " 'waterfront': 579086.615032849,\n",
              " 'yr_built': -3577.7739448109696,\n",
              " 'yr_renovated': 10.11967440334206,\n",
              " 'zipcode': -6.7722292391697465}"
            ]
          },
          "metadata": {
            "tags": []
          },
          "execution_count": 154
        }
      ]
    },
    {
      "cell_type": "markdown",
      "metadata": {
        "id": "RiRMWnjDYKme"
      },
      "source": [
        "> The squire lot coefficient has been reduced approaching 0."
      ]
    },
    {
      "cell_type": "markdown",
      "metadata": {
        "id": "WDHuoZuefrYN"
      },
      "source": [
        "### Quantile Regression"
      ]
    },
    {
      "cell_type": "code",
      "metadata": {
        "colab": {
          "base_uri": "https://localhost:8080/"
        },
        "id": "KhKbSdkN7UDx",
        "outputId": "133f7d12-8952-4e34-e6b1-32e1c4620f1c"
      },
      "source": [
        "# We will use the python package statsmodels for Quantile Regression\r\n",
        "# defining our x and y by sellecting columns\r\n",
        "# Get the 2 and the last column from the dataset \r\n",
        "x1 = house_price.iloc[:, 1:17].values\r\n",
        "y1 = house_price.iloc[:, 0].values\r\n",
        "print(x1)\r\n",
        "print(y1)\r\n",
        "\r\n",
        "# we use the iloc function for the quantile function. \r\n",
        "# we set price as our y-axis and the rest to independent variable."
      ],
      "execution_count": 183,
      "outputs": [
        {
          "output_type": "stream",
          "text": [
            "[[ 292784.66877881]\n",
            " [1495013.6966968 ]\n",
            " [ 505995.19937262]\n",
            " ...\n",
            " [ 288899.71885388]\n",
            " [ 230617.1672604 ]\n",
            " [ 377236.12348224]]\n",
            "[ 297000. 1580000.  562100. ...  369950.  300000.  575950.]\n"
          ],
          "name": "stdout"
        }
      ]
    },
    {
      "cell_type": "code",
      "metadata": {
        "colab": {
          "base_uri": "https://localhost:8080/"
        },
        "id": "-_FnAJ25fqlm",
        "outputId": "30d53208-fa89-4092-9c0d-94f853351281"
      },
      "source": [
        "## Creating a linear regression model regression on the above dataset\r\n",
        "#\r\n",
        "from sklearn.linear_model import LinearRegression\r\n",
        "\r\n",
        "model1 = LinearRegression(fit_intercept = True, normalize = False)\r\n",
        "model1.fit(X, y)\r\n",
        "\r\n",
        "y_pred1 = model1.predict(X)\r\n",
        "\r\n",
        "print(\"Mean squared error: {0:.2f}\"\r\n",
        "      .format(np.mean((y_pred1 - y) ** 2)))\r\n",
        "print('Variance score: {0:.2f}'.format(model1.score(X, y)))"
      ],
      "execution_count": 184,
      "outputs": [
        {
          "output_type": "stream",
          "text": [
            "Mean squared error: 46722005847.32\n",
            "Variance score: 0.65\n"
          ],
          "name": "stdout"
        }
      ]
    },
    {
      "cell_type": "markdown",
      "metadata": {
        "id": "xjt3uDfTZvnu"
      },
      "source": [
        "> Our quantile regression mean squared error 46722005847.32 which is no different with the linear regression, thus our baseline model is equal to the quantile regression."
      ]
    },
    {
      "cell_type": "code",
      "metadata": {
        "colab": {
          "base_uri": "https://localhost:8080/"
        },
        "id": "RgcaLKXz8r9H",
        "outputId": "209fce68-3384-4a75-b883-761b0cf6b4ea"
      },
      "source": [
        "# We will use the python package statsmodels for Quantile Regression\r\n",
        "#\r\n",
        "import statsmodels.formula.api as smf\r\n",
        "\r\n",
        "# Finding the regression coefficients for the conditioned median, 0.25 quantile\r\n",
        "#\r\n",
        "mod = smf.quantreg('y1 ~ x1', house_price)\r\n",
        "res = mod.fit(q=.25)\r\n",
        "\r\n",
        "# Then print out the summary of our model\r\n",
        "#\r\n",
        "print(res.summary())"
      ],
      "execution_count": 189,
      "outputs": [
        {
          "output_type": "stream",
          "text": [
            "                         QuantReg Regression Results                          \n",
            "==============================================================================\n",
            "Dep. Variable:                     y1   Pseudo R-squared:               0.3018\n",
            "Model:                       QuantReg   Bandwidth:                   3.602e+04\n",
            "Method:                 Least Squares   Sparsity:                    4.138e+05\n",
            "Date:                Fri, 19 Feb 2021   No. Observations:                 4323\n",
            "Time:                        11:00:45   Df Residuals:                     4321\n",
            "                                        Df Model:                            1\n",
            "==============================================================================\n",
            "                 coef    std err          t      P>|t|      [0.025      0.975]\n",
            "------------------------------------------------------------------------------\n",
            "Intercept   1.769e+04   4812.271      3.676      0.000    8256.994    2.71e+04\n",
            "x1             0.7163      0.008     91.651      0.000       0.701       0.732\n",
            "==============================================================================\n",
            "\n",
            "The condition number is large, 1.28e+06. This might indicate that there are\n",
            "strong multicollinearity or other numerical problems.\n"
          ],
          "name": "stdout"
        }
      ]
    },
    {
      "cell_type": "markdown",
      "metadata": {
        "id": "kMqWCDhebhjr"
      },
      "source": [
        "> Our r-squired at 0.25 quantile is 30% which is not either good for our prediction."
      ]
    },
    {
      "cell_type": "code",
      "metadata": {
        "colab": {
          "base_uri": "https://localhost:8080/"
        },
        "id": "lGqAgNcK5nqB",
        "outputId": "910272ac-9d3d-4b7c-c3cc-6516cc808778"
      },
      "source": [
        "# We will use the python package statsmodels for Quantile Regression\r\n",
        "#\r\n",
        "import statsmodels.formula.api as smf\r\n",
        "\r\n",
        "# Finding the regression coefficients for the conditioned median, 0.5 quantile\r\n",
        "#\r\n",
        "mod = smf.quantreg('y1 ~ x1', house_price)\r\n",
        "res = mod.fit(q=.5)\r\n",
        "\r\n",
        "# Then print out the summary of our model\r\n",
        "#\r\n",
        "print(res.summary())"
      ],
      "execution_count": 185,
      "outputs": [
        {
          "output_type": "stream",
          "text": [
            "                         QuantReg Regression Results                          \n",
            "==============================================================================\n",
            "Dep. Variable:                     y1   Pseudo R-squared:               0.3972\n",
            "Model:                       QuantReg   Bandwidth:                   4.131e+04\n",
            "Method:                 Least Squares   Sparsity:                    3.416e+05\n",
            "Date:                Fri, 19 Feb 2021   No. Observations:                 4323\n",
            "Time:                        10:57:00   Df Residuals:                     4321\n",
            "                                        Df Model:                            1\n",
            "==============================================================================\n",
            "                 coef    std err          t      P>|t|      [0.025      0.975]\n",
            "------------------------------------------------------------------------------\n",
            "Intercept   7.117e+04   5463.160     13.026      0.000    6.05e+04    8.19e+04\n",
            "x1             0.8201      0.009     91.236      0.000       0.802       0.838\n",
            "==============================================================================\n",
            "\n",
            "The condition number is large, 1.28e+06. This might indicate that there are\n",
            "strong multicollinearity or other numerical problems.\n"
          ],
          "name": "stdout"
        }
      ]
    },
    {
      "cell_type": "markdown",
      "metadata": {
        "id": "6loCwtKRdGP0"
      },
      "source": [
        "> At the 0.5 quantile, we have 39% prediction rate."
      ]
    },
    {
      "cell_type": "code",
      "metadata": {
        "colab": {
          "base_uri": "https://localhost:8080/"
        },
        "id": "sqpik0NM6BTx",
        "outputId": "01124f7f-8d32-4fcd-c468-a8c4350c9a5e"
      },
      "source": [
        "# We will use the python package statsmodels for Quantile Regression\r\n",
        "#\r\n",
        "import statsmodels.formula.api as smf\r\n",
        "\r\n",
        "# Finding the regression coefficients for the conditioned median, 0.75 quantile\r\n",
        "#\r\n",
        "mod = smf.quantreg('y1 ~ x1', house_price)\r\n",
        "res = mod.fit(q=.75)\r\n",
        "\r\n",
        "# Then print out the summary of our model\r\n",
        "#\r\n",
        "print(res.summary())"
      ],
      "execution_count": 186,
      "outputs": [
        {
          "output_type": "stream",
          "text": [
            "                         QuantReg Regression Results                          \n",
            "==============================================================================\n",
            "Dep. Variable:                     y1   Pseudo R-squared:               0.4697\n",
            "Model:                       QuantReg   Bandwidth:                   3.708e+04\n",
            "Method:                 Least Squares   Sparsity:                    4.402e+05\n",
            "Date:                Fri, 19 Feb 2021   No. Observations:                 4323\n",
            "Time:                        10:57:16   Df Residuals:                     4321\n",
            "                                        Df Model:                            1\n",
            "==============================================================================\n",
            "                 coef    std err          t      P>|t|      [0.025      0.975]\n",
            "------------------------------------------------------------------------------\n",
            "Intercept   1.085e+05   6872.281     15.785      0.000     9.5e+04    1.22e+05\n",
            "x1             0.9486      0.012     81.379      0.000       0.926       0.971\n",
            "==============================================================================\n",
            "\n",
            "The condition number is large, 1.28e+06. This might indicate that there are\n",
            "strong multicollinearity or other numerical problems.\n"
          ],
          "name": "stdout"
        }
      ]
    },
    {
      "cell_type": "markdown",
      "metadata": {
        "id": "Pj6OyeDrd1Ay"
      },
      "source": [
        "At the 0.75 quantile the r-squared of 46% which is not good for our prediction."
      ]
    },
    {
      "cell_type": "markdown",
      "metadata": {
        "id": "KL5A3PSegzRj"
      },
      "source": [
        "### Ridge Regression"
      ]
    },
    {
      "cell_type": "code",
      "metadata": {
        "id": "LssQJ37Lg5Np"
      },
      "source": [
        "# when working with ridge regression we need to determine the most appropriate value for the l2 regularization. \r\n",
        "# L2 is the name of the hyperparameter that is used in ridge regression. \r\n",
        "# we use the gride search method and setting our log space -5 to 5 getting 10 values within the range\r\n",
        "from sklearn.model_selection import GridSearchCV\r\n",
        "from sklearn.linear_model import Ridge\r\n",
        "\r\n",
        "ridge = Ridge(normalize=True)\r\n",
        "search = GridSearchCV(estimator=ridge,param_grid={'alpha':np.logspace(-5,5,10)},scoring='neg_mean_squared_error',n_jobs=1,refit=True,cv=10)"
      ],
      "execution_count": 62,
      "outputs": []
    },
    {
      "cell_type": "code",
      "metadata": {
        "colab": {
          "base_uri": "https://localhost:8080/"
        },
        "id": "XeR5A9q7iOGk",
        "outputId": "5b83645a-b435-4208-8fed-00dcbcaf15cc"
      },
      "source": [
        "# We now use the .fit function to run the model and then use the .best_params_ and\r\n",
        "#  .best_scores_ function to determine the models strength. \r\n",
        "# \r\n",
        "search.fit(x,y)\r\n",
        "print(search.best_params_)\r\n",
        "print(abs(search.best_score_))"
      ],
      "execution_count": 63,
      "outputs": [
        {
          "output_type": "stream",
          "text": [
            "{'alpha': 0.021544346900318846}\n",
            "47397278261.44984\n"
          ],
          "name": "stdout"
        }
      ]
    },
    {
      "cell_type": "markdown",
      "metadata": {
        "id": "UvX_zduRfRz8"
      },
      "source": [
        "> For our ridge regression, the mean squire error is 47397278261.44 and our lineer regression 46722005847.32, the ridge regression mean squire error is performing poorly. The ridge regression is not performing better for our prediction compared to linear."
      ]
    },
    {
      "cell_type": "code",
      "metadata": {
        "colab": {
          "base_uri": "https://localhost:8080/"
        },
        "id": "VYAr--95ipDy",
        "outputId": "0a0f498f-298a-497d-ec73-34e68c7b0c4b"
      },
      "source": [
        "# We can confirm this by fitting our model with the ridge information and finding the mean squared error below\r\n",
        "#\r\n",
        "ridge = Ridge(normalize=True,alpha=0.1)\r\n",
        "ridge.fit(x,y)\r\n",
        "second_model = (mean_squared_error(y_true=y,y_pred=ridge.predict(x)))\r\n",
        "print(second_model)"
      ],
      "execution_count": 64,
      "outputs": [
        {
          "output_type": "stream",
          "text": [
            "47248858637.63646\n"
          ],
          "name": "stdout"
        }
      ]
    },
    {
      "cell_type": "markdown",
      "metadata": {
        "id": "boXUTSWHgg0x"
      },
      "source": [
        "> The model is quit low."
      ]
    },
    {
      "cell_type": "code",
      "metadata": {
        "colab": {
          "base_uri": "https://localhost:8080/"
        },
        "id": "Jo27bXimi7mt",
        "outputId": "b36ffde1-891c-4885-fafa-95b52a55736a"
      },
      "source": [
        "# determining the coefficients of the ridge regression for comparison\r\n",
        "\r\n",
        "# \r\n",
        "coef_dict_baseline = {}\r\n",
        "for coef, feat in zip(regression.coef_,house_price_pca.drop(['price'], axis= 1).columns):\r\n",
        "    coef_dict_baseline[feat] = coef\r\n",
        "coef_dict_baseline"
      ],
      "execution_count": 75,
      "outputs": [
        {
          "output_type": "execute_result",
          "data": {
            "text/plain": [
              "{'bathrooms': 45764.913908867326,\n",
              " 'bedrooms': -39363.79357638453,\n",
              " 'condition': 19459.180084506716,\n",
              " 'floors': 27029.54719977978,\n",
              " 'grade': 119860.09435179096,\n",
              " 'sqft_above': 51.49414086195793,\n",
              " 'sqft_basement': 57.867109564138445,\n",
              " 'sqft_living': 109.36125070964226,\n",
              " 'sqft_living15': 24.725000960362195,\n",
              " 'sqft_lot': -0.00227899121819064,\n",
              " 'sqft_lot15': -0.5510105315152032,\n",
              " 'view': 43351.17650044986,\n",
              " 'waterfront': 579086.615032849,\n",
              " 'yr_built': -3577.7739448109696,\n",
              " 'yr_renovated': 10.11967440334206,\n",
              " 'zipcode': -6.7722292391697465}"
            ]
          },
          "metadata": {
            "tags": []
          },
          "execution_count": 75
        }
      ]
    },
    {
      "cell_type": "markdown",
      "metadata": {
        "id": "vVGrTt58gy8C"
      },
      "source": [
        "> For sqft lot is reduced approaching 0."
      ]
    },
    {
      "cell_type": "markdown",
      "metadata": {
        "id": "Hi6grBOZpBvB"
      },
      "source": [
        "### Lasso Regression"
      ]
    },
    {
      "cell_type": "code",
      "metadata": {
        "id": "jrKzh9bWon7p"
      },
      "source": [
        "# Scaling our data \r\n",
        "# Importing StandardScaler\r\n",
        "#\r\n",
        "from sklearn.preprocessing import StandardScaler\r\n",
        "scaler = StandardScaler()\r\n",
        "scaler.fit(x)\r\n",
        "x = scaler.transform(x)"
      ],
      "execution_count": 87,
      "outputs": []
    },
    {
      "cell_type": "code",
      "metadata": {
        "colab": {
          "base_uri": "https://localhost:8080/"
        },
        "id": "HTmn459dplwc",
        "outputId": "b4c6ffe9-0330-472e-9b00-899b477134f8"
      },
      "source": [
        "# Creating lasso object\r\n",
        "# \r\n",
        "from sklearn import linear_model\r\n",
        "\r\n",
        "from sklearn.linear_model import Lasso\r\n",
        "lasso = linear_model.Lasso() \r\n",
        "\r\n",
        "# Fitting the models\r\n",
        "# \r\n",
        "lasso.fit(x, y) \r\n",
        "\r\n",
        "# Print scores, MSE, and coefficients\r\n",
        "# \r\n",
        "print(\"lasso score:\", lasso.score(x, y)) \r\n",
        "print(\"lasso MSE:\", mean_squared_error(y, lasso.predict(x))) \r\n",
        "print(\"lasso coef:\", lasso.coef_) "
      ],
      "execution_count": 88,
      "outputs": [
        {
          "output_type": "stream",
          "text": [
            "lasso score: 0.6537796708652712\n",
            "lasso MSE: 46722005880.94857\n",
            "lasso coef: [-3.66086135e+04  3.52389189e+04  2.70464954e+05 -9.32130157e+01\n",
            "  1.45948308e+04  5.00990707e+04  3.32199873e+04  1.26616682e+04\n",
            "  1.40889053e+05 -1.10651849e+05 -5.63172240e+04 -1.05086006e+05\n",
            "  4.06418435e+03 -3.60986927e+02  1.69405260e+04 -1.50444466e+04]\n"
          ],
          "name": "stdout"
        },
        {
          "output_type": "stream",
          "text": [
            "/usr/local/lib/python3.6/dist-packages/sklearn/linear_model/_coordinate_descent.py:476: ConvergenceWarning:\n",
            "\n",
            "Objective did not converge. You might want to increase the number of iterations. Duality gap: 41654548703471.5, tolerance: 291664766083.6765\n",
            "\n"
          ],
          "name": "stderr"
        }
      ]
    },
    {
      "cell_type": "markdown",
      "metadata": {
        "id": "fkJo8mVihVSo"
      },
      "source": [
        "> For our lasso regression the mean squire error is 46722005880.94 and our baseline linear regression is 46722005847.31, which is almost simillar to therefore lassor regression is not performing better compaired to the baseline."
      ]
    },
    {
      "cell_type": "markdown",
      "metadata": {
        "id": "-wGtEkZwsrNT"
      },
      "source": [
        "### Elastict Net Model"
      ]
    },
    {
      "cell_type": "code",
      "metadata": {
        "id": "VwYG7Uj0sB8E"
      },
      "source": [
        "# This argument  is set inside the ElasticNet function. \r\n",
        "# creating our grid.\r\n",
        "# \r\n",
        "from sklearn.linear_model import ElasticNet\r\n",
        "elastic=ElasticNet(normalize=True)\r\n",
        "search=GridSearchCV(estimator=elastic,param_grid={'alpha':np.logspace(-5,2,8),'l1_ratio':[.2,.4,.6,.8]},scoring='neg_mean_squared_error',n_jobs=1,refit=True,cv=10)"
      ],
      "execution_count": 94,
      "outputs": []
    },
    {
      "cell_type": "code",
      "metadata": {
        "colab": {
          "base_uri": "https://localhost:8080/"
        },
        "id": "5ZiUXXifsBqZ",
        "outputId": "d507556a-48b7-4628-e8a9-d7c66514d8e4"
      },
      "source": [
        "# We will now fit our model and display the best parameters and the best results we can get with that setup.\r\n",
        "# \r\n",
        "search.fit(x,y)\r\n",
        "search.best_params_\r\n",
        "abs(search.best_score_)"
      ],
      "execution_count": 95,
      "outputs": [
        {
          "output_type": "execute_result",
          "data": {
            "text/plain": [
              "47439284870.24662"
            ]
          },
          "metadata": {
            "tags": []
          },
          "execution_count": 95
        }
      ]
    },
    {
      "cell_type": "markdown",
      "metadata": {
        "id": "HDbaz70vsdRz"
      },
      "source": [
        "> Our elastic mean squire error is 47439284870.24,  compaired to our baseline linear regression of 46722005847.31, which is more worse. there linear regression is quite ideal compaired to elastic regression."
      ]
    },
    {
      "cell_type": "code",
      "metadata": {
        "colab": {
          "base_uri": "https://localhost:8080/"
        },
        "id": "vM1a_eVztdyn",
        "outputId": "4d2ffe57-167b-473d-fa49-29ab90724048"
      },
      "source": [
        "# The best hyperparameters was an alpha set to 0.001 and a l1_ratio of 0.8. \r\n",
        "# With these settings we got an MSE of 8989.32. This is above our baseline model of MSE 6021.32  for the baseline model. \r\n",
        "# Which means that elastic net is doing worse than linear regression. \r\n",
        "# For clarity, we will set our hyperparameters to the recommended values and run on the data.\r\n",
        "# \r\n",
        "elastic=ElasticNet(normalize=True,alpha=0.001,l1_ratio=0.75)\r\n",
        "elastic.fit(x,y)\r\n",
        "second_model=(mean_squared_error(y_true=y,y_pred=elastic.predict(x)))\r\n",
        "print(second_model)"
      ],
      "execution_count": 96,
      "outputs": [
        {
          "output_type": "stream",
          "text": [
            "82486832228.60619\n"
          ],
          "name": "stdout"
        }
      ]
    },
    {
      "cell_type": "code",
      "metadata": {
        "colab": {
          "base_uri": "https://localhost:8080/"
        },
        "id": "R6VbwciHto-r",
        "outputId": "ae54b6c7-889f-47b5-ed5c-261409db2f72"
      },
      "source": [
        "# finding the coefficients\r\n",
        "# \r\n",
        "coef_dict_baseline = {}\r\n",
        "for coef, feat in zip(elastic.coef_,house_price_pca.drop(['price'], axis= 1)):\r\n",
        "    coef_dict_baseline[feat] = coef\r\n",
        "coef_dict_baseline\r\n",
        "\r\n",
        "# most of the variables affect our price of house negatively"
      ],
      "execution_count": 99,
      "outputs": [
        {
          "output_type": "execute_result",
          "data": {
            "text/plain": [
              "{'bathrooms': 17784.13247646619,\n",
              " 'bedrooms': 8440.75204768162,\n",
              " 'condition': 3734.544414255911,\n",
              " 'floors': 7864.607500060038,\n",
              " 'grade': 26374.26791734371,\n",
              " 'sqft_above': 22153.625369785623,\n",
              " 'sqft_basement': 13557.787157438986,\n",
              " 'sqft_living': 26507.490752543035,\n",
              " 'sqft_living15': 21405.15869750312,\n",
              " 'sqft_lot': 2171.5399778824485,\n",
              " 'sqft_lot15': 1450.8648457830657,\n",
              " 'view': 16830.34932743985,\n",
              " 'waterfront': 12416.007496155056,\n",
              " 'yr_built': -3935.680355717651,\n",
              " 'yr_renovated': 6002.966715914349,\n",
              " 'zipcode': 575.0744309896346}"
            ]
          },
          "metadata": {
            "tags": []
          },
          "execution_count": 99
        }
      ]
    },
    {
      "cell_type": "markdown",
      "metadata": {
        "id": "buC2koA4tIZe"
      },
      "source": [
        "> Our sqft lot which had been low is quite high, elastict regression does not reduce the variable to zero."
      ]
    },
    {
      "cell_type": "markdown",
      "metadata": {
        "id": "A4TuRjh4CzEE"
      },
      "source": [
        "### checking heteroscedasticity using Bartlett’s test"
      ]
    },
    {
      "cell_type": "code",
      "metadata": {
        "colab": {
          "base_uri": "https://localhost:8080/",
          "height": 295
        },
        "id": "8OAd8_JX0srr",
        "outputId": "f784bdfc-15f0-43a9-8100-67c145e4de05"
      },
      "source": [
        "residuals = y_pred - y_test\r\n",
        "\r\n",
        "# Plotting the prediction errors\r\n",
        "\r\n",
        "plt.scatter(y_pred, residuals, color='blue')\r\n",
        "plt.title('Residual Plot')\r\n",
        "plt.ylabel('residual')\r\n",
        "plt.xlabel('fitted values')\r\n",
        "plt.axhline(y= residuals.mean(), color='black')\r\n",
        "plt.show()"
      ],
      "execution_count": 107,
      "outputs": [
        {
          "output_type": "display_data",
          "data": {
            "image/png": "[encoded data removed]",
            "text/plain": [
              "<Figure size 432x288 with 1 Axes>"
            ]
          },
          "metadata": {
            "tags": [],
            "needs_background": "light"
          }
        }
      ]
    },
    {
      "cell_type": "code",
      "metadata": {
        "colab": {
          "base_uri": "https://localhost:8080/"
        },
        "id": "1sSYFhuRCjj4",
        "outputId": "5323b9e8-6829-4d4f-9f4a-b121882026c1"
      },
      "source": [
        "import scipy as sp\r\n",
        "\r\n",
        "test_result, p_value = sp.stats.bartlett(y_pred, residuals)\r\n",
        "\r\n",
        "# To interpret the results we must also compute a critical value of the chi squared distribution\r\n",
        "degree_of_freedom = len(y_pred)-1\r\n",
        "probability = 1 - p_value\r\n",
        "\r\n",
        "critical_value = sp.stats.chi2.ppf(probability, degree_of_freedom)\r\n",
        "print(critical_value)\r\n",
        "\r\n",
        "# If the test_result is greater than the critical value, then we reject our null\r\n",
        "# hypothesis. This would mean that there are patterns to the variance of the data\r\n",
        "\r\n",
        "# Otherwise, we can identify no patterns, and we accept the null hypothesis that \r\n",
        "# the variance is homogeneous across our data\r\n",
        "\r\n",
        "if (test_result > critical_value):\r\n",
        "  print('the variances are unequal, and the model should be reassessed')\r\n",
        "else:\r\n",
        "  print('the variances are homogeneous!')"
      ],
      "execution_count": 108,
      "outputs": [
        {
          "output_type": "stream",
          "text": [
            "inf\n",
            "the variances are homogeneous!\n"
          ],
          "name": "stdout"
        }
      ]
    },
    {
      "cell_type": "markdown",
      "metadata": {
        "id": "UtEuTnOMtn7Y"
      },
      "source": [
        "> since our test results is greater than critical values, our variances are homogeneous."
      ]
    },
    {
      "cell_type": "markdown",
      "metadata": {
        "id": "DXADzoVkD9qV"
      },
      "source": [
        "### Challenging the solution"
      ]
    },
    {
      "cell_type": "code",
      "metadata": {
        "colab": {
          "base_uri": "https://localhost:8080/"
        },
        "id": "pLj2xCqrwT2I",
        "outputId": "8beb3406-80f6-4a9b-defd-3304b7b07f88"
      },
      "source": [
        "# Splitting the data into training and test sets, building Lasso, \r\n",
        "# and choosing the regularization parameter with the help of GridSearch. \r\n",
        "# For that, we have to define the set of parameters for GridSearch. \r\n",
        "# In this case, a model with the highest R-squared score will give us the best parameters.\r\n",
        "# \r\n",
        "\r\n",
        "# Making necessary imports, split data into training and test sets, and choose a set of parameters \r\n",
        "from sklearn.model_selection import train_test_split\r\n",
        "from sklearn.model_selection import GridSearchCV\r\n",
        "import warnings\r\n",
        "warnings.filterwarnings(\"ignore\")\r\n",
        "\r\n",
        "x_train, x_test, y_train, y_test = train_test_split(x, y, test_size=0.25, random_state=101)\r\n",
        "parameters = {'alpha': np.concatenate((np.arange(0.1,2,0.1), np.arange(2, 5, 0.5), np.arange(5, 25, 1)))}\r\n",
        "\r\n",
        "linear = linear_model.LinearRegression()\r\n",
        "lasso = linear_model.Lasso() \r\n",
        "gridlasso = GridSearchCV(lasso, parameters, scoring ='r2') \r\n",
        "\r\n",
        "# Fitting models and print the best parameters, R-squared scores, MSE, and coefficients\r\n",
        "gridlasso.fit(x_train, y_train) \r\n",
        "linear.fit(x_train, y_train) \r\n",
        "print(\"lasso best parameters:\", gridlasso.best_params_) \r\n",
        "print(\"lasso score:\", gridlasso.score(x_test, y_test))\r\n",
        "print(\"linear score:\", linear.score(x_test, y_test)) \r\n",
        "print(\"lasso MSE:\", mean_squared_error(y_test, gridlasso.predict(x_test)))\r\n",
        "print(\"linear MSE:\", mean_squared_error(y_test, linear.predict(x_test))) \r\n",
        "print(\"lasso best estimator coef:\", gridlasso.best_estimator_.coef_)\r\n",
        "print(\"linear coef:\", linear.coef_)"
      ],
      "execution_count": 117,
      "outputs": [
        {
          "output_type": "stream",
          "text": [
            "lasso best parameters: {'alpha': 24.0}\n",
            "lasso score: 0.6664366713409504\n",
            "linear score: 0.6664403879900951\n",
            "lasso MSE: 47354942610.44673\n",
            "linear MSE: 47354414969.39082\n",
            "lasso best estimator coef: [ -37775.03424168   30402.05036728  216673.9437237      768.75501725\n",
            "   16678.6315219    47510.68616937   32440.88183432   14571.04623878\n",
            "  141402.26278277  -61331.15358806  -30451.11252017 -104311.10134078\n",
            "    3749.59356599    -690.51946719   18029.09999757  -14873.81976931]\n",
            "linear coef: [ -37805.93467122   30560.80729499   76416.02609297     838.2364492\n",
            "   16692.49076155   47528.02578483   32438.29360688   14594.86642459\n",
            "  141360.12294735   64958.54303363   37037.8321535  -104379.38774064\n",
            "    3763.81989303    -720.25645328   18162.98764459  -14944.66801079]\n"
          ],
          "name": "stdout"
        }
      ]
    },
    {
      "cell_type": "markdown",
      "metadata": {
        "id": "w_5wz5ATuBW8"
      },
      "source": [
        "> Based on our prediction;\r\n",
        "\r\n",
        "* linear regression mean squire error 46722005847.31\r\n",
        "* Quantile regression mean squire error or r2 is 46% to carry out regression\r\n",
        "* ridge regression mean squire error 47397278261.44\r\n",
        "* lasso regression mean squire error 46722005880.94857\r\n",
        "* Elastic regression mean squire error 47439284870.24662\r\n",
        "\r\n",
        "Based on these linear regression is best fitted for these prediction and also lasso regression which is 66% effective."
      ]
    },
    {
      "cell_type": "markdown",
      "metadata": {
        "id": "RrQcTLh_K4A4"
      },
      "source": [
        "## Conclusion"
      ]
    },
    {
      "cell_type": "markdown",
      "metadata": {
        "id": "BTzC9yPXK9n5"
      },
      "source": [
        "> The model performed were well exercuted, there were dificulties in perfomance of quantile regression hence we managed to use the iloc function to perfom the model.\r\n",
        "\r\n",
        "> based on our analysis the models were not effective for carrying out the price of the house. Therefore our data was not really good to carry out the prediction. "
      ]
    },
    {
      "cell_type": "markdown",
      "metadata": {
        "id": "txUZ1VoWMmBa"
      },
      "source": [
        "## Recomendation"
      ]
    },
    {
      "cell_type": "markdown",
      "metadata": {
        "id": "PogKWs13MtD0"
      },
      "source": [
        "> Therefore its relevant to reduce our independent variables and focus on the most relevant ones."
      ]
    },
    {
      "cell_type": "markdown",
      "metadata": {
        "id": "hqzC2k-fOd2Q"
      },
      "source": [
        "## Follow up Questions"
      ]
    },
    {
      "cell_type": "markdown",
      "metadata": {
        "id": "8PKIS4ceOkOo"
      },
      "source": [
        "### a). Did we have the right data?"
      ]
    },
    {
      "cell_type": "markdown",
      "metadata": {
        "id": "F-SsgMWOO9Od"
      },
      "source": [
        "> Yes, but the its ideal to focus on the most relevant independent variables to make our prediction most effective."
      ]
    },
    {
      "cell_type": "markdown",
      "metadata": {
        "id": "iVN1GwHXOwYx"
      },
      "source": [
        "### b). Do we need other data to answer our question?"
      ]
    },
    {
      "cell_type": "markdown",
      "metadata": {
        "id": "Dqp1y5gRPUO9"
      },
      "source": [
        "> We have enough dataset for the analysis"
      ]
    },
    {
      "cell_type": "markdown",
      "metadata": {
        "id": "gzJvZZGCO2zC"
      },
      "source": [
        "### c). Did we have the right question?"
      ]
    },
    {
      "cell_type": "markdown",
      "metadata": {
        "id": "6W2YVzLSPjhn"
      },
      "source": [
        "> Yes, but challenging to answer the questions"
      ]
    }
  ]
}